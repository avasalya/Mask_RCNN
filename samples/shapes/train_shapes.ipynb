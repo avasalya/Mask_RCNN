{
 "cells": [
  {
   "cell_type": "markdown",
   "metadata": {},
   "source": [
    "# Mask R-CNN - Train on Shapes Dataset\n",
    "\n",
    "\n",
    "This notebook shows how to train Mask R-CNN on your own dataset. To keep things simple we use a synthetic dataset of shapes (squares, triangles, and circles) which enables fast training. You'd still need a GPU, though, because the network backbone is a Resnet101, which would be too slow to train on a CPU. On a GPU, you can start to get okay-ish results in a few minutes, and good results in less than an hour.\n",
    "\n",
    "The code of the *Shapes* dataset is included below. It generates images on the fly, so it doesn't require downloading any data. And it can generate images of any size, so we pick a small image size to train faster. "
   ]
  },
  {
   "cell_type": "code",
   "execution_count": 1,
   "metadata": {},
   "outputs": [
    {
     "output_type": "stream",
     "name": "stderr",
     "text": [
      "Using TensorFlow backend.\n"
     ]
    }
   ],
   "source": [
    "import os\n",
    "import sys\n",
    "import random\n",
    "import math\n",
    "import re\n",
    "import time\n",
    "import numpy as np\n",
    "import cv2\n",
    "import matplotlib\n",
    "import matplotlib.pyplot as plt\n",
    "\n",
    "# Root directory of the project\n",
    "ROOT_DIR = os.path.abspath(\"../../\")\n",
    "\n",
    "# Import Mask RCNN\n",
    "sys.path.append(ROOT_DIR)  # To find local version of the library\n",
    "from mrcnn.config import Config\n",
    "from mrcnn import utils\n",
    "import mrcnn.model as modellib\n",
    "from mrcnn import visualize\n",
    "from mrcnn.model import log\n",
    "\n",
    "%matplotlib inline \n",
    "\n",
    "# Directory to save logs and trained model\n",
    "MODEL_DIR = os.path.join(ROOT_DIR, \"logs\")\n",
    "\n",
    "# Local path to trained weights file\n",
    "COCO_MODEL_PATH = os.path.join(ROOT_DIR, \"mask_rcnn_coco.h5\")\n",
    "# Download COCO trained weights from Releases if needed\n",
    "if not os.path.exists(COCO_MODEL_PATH):\n",
    "    utils.download_trained_weights(COCO_MODEL_PATH)"
   ]
  },
  {
   "cell_type": "markdown",
   "metadata": {},
   "source": [
    "## Configurations"
   ]
  },
  {
   "cell_type": "code",
   "execution_count": 2,
   "metadata": {},
   "outputs": [
    {
     "output_type": "stream",
     "name": "stdout",
     "text": [
      "\nConfigurations:\nBACKBONE                       resnet101\nBACKBONE_STRIDES               [4, 8, 16, 32, 64]\nBATCH_SIZE                     8\nBBOX_STD_DEV                   [0.1 0.1 0.2 0.2]\nCOMPUTE_BACKBONE_SHAPE         None\nDETECTION_MAX_INSTANCES        100\nDETECTION_MIN_CONFIDENCE       0.7\nDETECTION_NMS_THRESHOLD        0.3\nFPN_CLASSIF_FC_LAYERS_SIZE     1024\nGPU_COUNT                      1\nGRADIENT_CLIP_NORM             5.0\nIMAGES_PER_GPU                 8\nIMAGE_CHANNEL_COUNT            3\nIMAGE_MAX_DIM                  128\nIMAGE_META_SIZE                16\nIMAGE_MIN_DIM                  128\nIMAGE_MIN_SCALE                0\nIMAGE_RESIZE_MODE              square\nIMAGE_SHAPE                    [128 128   3]\nLEARNING_MOMENTUM              0.9\nLEARNING_RATE                  0.001\nLOSS_WEIGHTS                   {'rpn_class_loss': 1.0, 'rpn_bbox_loss': 1.0, 'mrcnn_class_loss': 1.0, 'mrcnn_bbox_loss': 1.0, 'mrcnn_mask_loss': 1.0}\nMASK_POOL_SIZE                 14\nMASK_SHAPE                     [28, 28]\nMAX_GT_INSTANCES               100\nMEAN_PIXEL                     [123.7 116.8 103.9]\nMINI_MASK_SHAPE                (56, 56)\nNAME                           shapes\nNUM_CLASSES                    4\nPOOL_SIZE                      7\nPOST_NMS_ROIS_INFERENCE        1000\nPOST_NMS_ROIS_TRAINING         2000\nPRE_NMS_LIMIT                  6000\nROI_POSITIVE_RATIO             0.33\nRPN_ANCHOR_RATIOS              [0.5, 1, 2]\nRPN_ANCHOR_SCALES              (8, 16, 32, 64, 128)\nRPN_ANCHOR_STRIDE              1\nRPN_BBOX_STD_DEV               [0.1 0.1 0.2 0.2]\nRPN_NMS_THRESHOLD              0.7\nRPN_TRAIN_ANCHORS_PER_IMAGE    256\nSTEPS_PER_EPOCH                100\nTOP_DOWN_PYRAMID_SIZE          256\nTRAIN_BN                       False\nTRAIN_ROIS_PER_IMAGE           32\nUSE_MINI_MASK                  True\nUSE_RPN_ROIS                   True\nVALIDATION_STEPS               5\nWEIGHT_DECAY                   0.0001\n\n\n"
     ]
    }
   ],
   "source": [
    "class ShapesConfig(Config):\n",
    "    \"\"\"Configuration for training on the toy shapes dataset.\n",
    "    Derives from the base Config class and overrides values specific\n",
    "    to the toy shapes dataset.\n",
    "    \"\"\"\n",
    "    # Give the configuration a recognizable name\n",
    "    NAME = \"shapes\"\n",
    "\n",
    "    # Train on 1 GPU and 8 images per GPU. We can put multiple images on each\n",
    "    # GPU because the images are small. Batch size is 8 (GPUs * images/GPU).\n",
    "    GPU_COUNT = 1\n",
    "    IMAGES_PER_GPU = 8\n",
    "\n",
    "    # Number of classes (including background)\n",
    "    NUM_CLASSES = 1 + 3  # background + 3 shapes\n",
    "\n",
    "    # Use small images for faster training. Set the limits of the small side\n",
    "    # the large side, and that determines the image shape.\n",
    "    IMAGE_MIN_DIM = 128\n",
    "    IMAGE_MAX_DIM = 128\n",
    "\n",
    "    # Use smaller anchors because our image and objects are small\n",
    "    RPN_ANCHOR_SCALES = (8, 16, 32, 64, 128)  # anchor side in pixels\n",
    "\n",
    "    # Reduce training ROIs per image because the images are small and have\n",
    "    # few objects. Aim to allow ROI sampling to pick 33% positive ROIs.\n",
    "    TRAIN_ROIS_PER_IMAGE = 32\n",
    "\n",
    "    # Use a small epoch since the data is simple\n",
    "    STEPS_PER_EPOCH = 100\n",
    "\n",
    "    # use small validation steps since the epoch is small\n",
    "    VALIDATION_STEPS = 5\n",
    "    \n",
    "config = ShapesConfig()\n",
    "config.display()"
   ]
  },
  {
   "cell_type": "markdown",
   "metadata": {},
   "source": [
    "## Notebook Preferences"
   ]
  },
  {
   "cell_type": "code",
   "execution_count": 3,
   "metadata": {
    "collapsed": true
   },
   "outputs": [],
   "source": [
    "def get_ax(rows=1, cols=1, size=8):\n",
    "    \"\"\"Return a Matplotlib Axes array to be used in\n",
    "    all visualizations in the notebook. Provide a\n",
    "    central point to control graph sizes.\n",
    "    \n",
    "    Change the default size attribute to control the size\n",
    "    of rendered images\n",
    "    \"\"\"\n",
    "    _, ax = plt.subplots(rows, cols, figsize=(size*cols, size*rows))\n",
    "    return ax"
   ]
  },
  {
   "cell_type": "markdown",
   "metadata": {},
   "source": [
    "## Dataset\n",
    "\n",
    "Create a synthetic dataset\n",
    "\n",
    "Extend the Dataset class and add a method to load the shapes dataset, `load_shapes()`, and override the following methods:\n",
    "\n",
    "* load_image()\n",
    "* load_mask()\n",
    "* image_reference()"
   ]
  },
  {
   "cell_type": "code",
   "execution_count": 4,
   "metadata": {
    "collapsed": true
   },
   "outputs": [
    {
     "output_type": "stream",
     "name": "stdout",
     "text": [
      "['BG', 'square', 'circle', 'triangle']\n----- ('circle', (96, 45, 185), (71, 60, 22))\n2\nclass_ids [2]\n(128, 128, 1)\n"
     ]
    },
    {
     "output_type": "display_data",
     "data": {
      "text/plain": "<Figure size 1008x360 with 5 Axes>",
      "image/svg+xml": "<?xml version=\"1.0\" encoding=\"utf-8\" standalone=\"no\"?>\n<!DOCTYPE svg PUBLIC \"-//W3C//DTD SVG 1.1//EN\"\n  \"http://www.w3.org/Graphics/SVG/1.1/DTD/svg11.dtd\">\n<!-- Created with matplotlib (https://matplotlib.org/) -->\n<svg height=\"150.784048pt\" version=\"1.1\" viewBox=\"0 0 784.455799 150.784048\" width=\"784.455799pt\" xmlns=\"http://www.w3.org/2000/svg\" xmlns:xlink=\"http://www.w3.org/1999/xlink\">\n <defs>\n  <style type=\"text/css\">\n*{stroke-linecap:butt;stroke-linejoin:round;}\n  </style>\n </defs>\n <g id=\"figure_1\">\n  <g id=\"patch_1\">\n   <path d=\"M 0 150.784048 \nL 784.455799 150.784048 \nL 784.455799 0 \nL 0 0 \nz\n\" style=\"fill:none;\"/>\n  </g>\n  <g id=\"axes_1\">\n   <g clip-path=\"url(#p98c1927e00)\">\n    <image height=\"124\" id=\"imagec0becc0f2f\" transform=\"scale(1 -1)translate(0 -124)\" width=\"124\" x=\"7.2\" xlink:href=\"data:image/png;base64,\niVBORw0KGgoAAAANSUhEUgAAAHwAAAB8CAYAAACrHtS+AAAABHNCSVQICAgIfAhkiAAABHBJREFUeJzt3dtuG1UUgOF/z8kzTuqQEmhoISRCqFdUlRA3vBbviLgAgYSQUBOFFhBQBM2hPs/M3lykrhKcVs7Bnj17re8qGkeeJf/xnJJxzFefjBxKjKjpAdRqaXBhNLgwGlwYDS6MBhdGgwujwYXR4MJocGE0uDAaXBgNLowGF0aDC6PBhdHgwmhwYTS4MBpcGA0ujAYXRoMLo8GF0eDCaHBhNLgwGlwYDS6MBhdGgwujwYXR4MJocGE0uDAaXBgNLowGF0aDC6PBhdHgwmhwYTT4/zhqptG/TY+xNEnTAzTF4ZjEf80tt6ZknPxBt5zOPRa7LqndWMV4SyMu+Cj5/dVXjmH2yxu/b9DZn1uW1D2yeguA1G6Q2DvLGHGpxAQfJb/hsIzSZ2Cu9xxVfEoVnwKQ1puvfwASt3aLky6XiODD5Bmj9Fcwt/dJ4WV8RBkfUdUv6U73WhM9+IO2QXp467HPK+MXDLNDKjNcyvPftmDf4YP0EGumTON/lhZ7poyPGGYHGJfRLXeJXb7U9d1EkMEH6SHj5E8w9crWWcbHADgzZX36kMh1Vrbuqwhyk17GRyuNfXHdxziaWfciggveT/epzajRGV5mP2OZP4/3QVDB++k+k+Q5GNvoHHXc5zT/EUvZ6ByXCSb4ID3wIvZMHQ04yX/AUjU9ygXBBK/N2JvYMzYaAX79l7AggvfTg7MDNQ8dF996dRAXRHBnqqWfa1+XM37tx4MIrhbX+uD99IBp/HfTY7zVi+JrHH4cX7Q+ONhr//ZrZTza3QQQXF2FBhdGgwvT6uAO5//++xWHPZu3Ya0OPkyfMomfNz3GQo6Kb5oeAWh58LVyj051r+kxFnJ39CXGg81Rq4Orq9PgwmhwYTS4MK0PHrsC4/z+W8yk9ucOldYHL6qPSOu7TY/xVr3JI4wnL7UfU6iVCSJ4antENmt6jEtl1RY+XQ4MInhe3Se2602Pcam16afebM4hkOAAWb1FZP2626NTfuBVbAjoVqO83gZglD7FRs3fBJCX9+mWexjipke5wK8fvxvK6+2zF7nh/XlefkhR7noXGwILDtCp7xGRNjpDXm0TebrxDC44QHe6i3HNRC+mH2Ocn2cMENA+/LzMvsv65CHO1AyyJ7gV3ElalDvEdo203vT23Q2BBgfI7NnVt2iScNr5aam3IRXlDnn5oPFdySKC3KSfl9pNepNH4JZz8aNNsSHgd/h5qe2xMX4MBk4639/Kha+8fECnfp/I5q2JDUKCAyTuDjjYGH/+etlJ8d2VniOr3qModwCIXNaq0DNigs/MPl7L4Xhn9MXc49ZM6GdP6E0+m3vMuKSVkc8TF3zGYIhdMbc8cjkb48dE+HtqdRNig7+JwWACjQ0CjtLVRRpcGA0ujAYXRoMLo8GF0eDCaHBhNLgwGlwYDS6MBhdGgwujwYXR4MJocGE0uDAaXBgNLowGF0aDC6PBhdHgwmhwYTS4MBpcGA0ujAYXRoMLo8GF0eDCaHBhNLgwGlwYDS7Mf7pFBBZYR/SYAAAAAElFTkSuQmCC\" y=\"-19.584048\"/>\n   </g>\n   <g id=\"text_1\">\n    <!-- H x W=128x128 -->\n    <defs>\n     <path d=\"M 9.8125 72.90625 \nL 19.671875 72.90625 \nL 19.671875 43.015625 \nL 55.515625 43.015625 \nL 55.515625 72.90625 \nL 65.375 72.90625 \nL 65.375 0 \nL 55.515625 0 \nL 55.515625 34.71875 \nL 19.671875 34.71875 \nL 19.671875 0 \nL 9.8125 0 \nz\n\" id=\"DejaVuSans-72\"/>\n     <path id=\"DejaVuSans-32\"/>\n     <path d=\"M 54.890625 54.6875 \nL 35.109375 28.078125 \nL 55.90625 0 \nL 45.3125 0 \nL 29.390625 21.484375 \nL 13.484375 0 \nL 2.875 0 \nL 24.125 28.609375 \nL 4.6875 54.6875 \nL 15.28125 54.6875 \nL 29.78125 35.203125 \nL 44.28125 54.6875 \nz\n\" id=\"DejaVuSans-120\"/>\n     <path d=\"M 3.328125 72.90625 \nL 13.28125 72.90625 \nL 28.609375 11.28125 \nL 43.890625 72.90625 \nL 54.984375 72.90625 \nL 70.3125 11.28125 \nL 85.59375 72.90625 \nL 95.609375 72.90625 \nL 77.296875 0 \nL 64.890625 0 \nL 49.515625 63.28125 \nL 33.984375 0 \nL 21.578125 0 \nz\n\" id=\"DejaVuSans-87\"/>\n     <path d=\"M 10.59375 45.40625 \nL 73.1875 45.40625 \nL 73.1875 37.203125 \nL 10.59375 37.203125 \nz\nM 10.59375 25.484375 \nL 73.1875 25.484375 \nL 73.1875 17.1875 \nL 10.59375 17.1875 \nz\n\" id=\"DejaVuSans-61\"/>\n     <path d=\"M 12.40625 8.296875 \nL 28.515625 8.296875 \nL 28.515625 63.921875 \nL 10.984375 60.40625 \nL 10.984375 69.390625 \nL 28.421875 72.90625 \nL 38.28125 72.90625 \nL 38.28125 8.296875 \nL 54.390625 8.296875 \nL 54.390625 0 \nL 12.40625 0 \nz\n\" id=\"DejaVuSans-49\"/>\n     <path d=\"M 19.1875 8.296875 \nL 53.609375 8.296875 \nL 53.609375 0 \nL 7.328125 0 \nL 7.328125 8.296875 \nQ 12.9375 14.109375 22.625 23.890625 \nQ 32.328125 33.6875 34.8125 36.53125 \nQ 39.546875 41.84375 41.421875 45.53125 \nQ 43.3125 49.21875 43.3125 52.78125 \nQ 43.3125 58.59375 39.234375 62.25 \nQ 35.15625 65.921875 28.609375 65.921875 \nQ 23.96875 65.921875 18.8125 64.3125 \nQ 13.671875 62.703125 7.8125 59.421875 \nL 7.8125 69.390625 \nQ 13.765625 71.78125 18.9375 73 \nQ 24.125 74.21875 28.421875 74.21875 \nQ 39.75 74.21875 46.484375 68.546875 \nQ 53.21875 62.890625 53.21875 53.421875 \nQ 53.21875 48.921875 51.53125 44.890625 \nQ 49.859375 40.875 45.40625 35.40625 \nQ 44.1875 33.984375 37.640625 27.21875 \nQ 31.109375 20.453125 19.1875 8.296875 \nz\n\" id=\"DejaVuSans-50\"/>\n     <path d=\"M 31.78125 34.625 \nQ 24.75 34.625 20.71875 30.859375 \nQ 16.703125 27.09375 16.703125 20.515625 \nQ 16.703125 13.921875 20.71875 10.15625 \nQ 24.75 6.390625 31.78125 6.390625 \nQ 38.8125 6.390625 42.859375 10.171875 \nQ 46.921875 13.96875 46.921875 20.515625 \nQ 46.921875 27.09375 42.890625 30.859375 \nQ 38.875 34.625 31.78125 34.625 \nz\nM 21.921875 38.8125 \nQ 15.578125 40.375 12.03125 44.71875 \nQ 8.5 49.078125 8.5 55.328125 \nQ 8.5 64.0625 14.71875 69.140625 \nQ 20.953125 74.21875 31.78125 74.21875 \nQ 42.671875 74.21875 48.875 69.140625 \nQ 55.078125 64.0625 55.078125 55.328125 \nQ 55.078125 49.078125 51.53125 44.71875 \nQ 48 40.375 41.703125 38.8125 \nQ 48.828125 37.15625 52.796875 32.3125 \nQ 56.78125 27.484375 56.78125 20.515625 \nQ 56.78125 9.90625 50.3125 4.234375 \nQ 43.84375 -1.421875 31.78125 -1.421875 \nQ 19.734375 -1.421875 13.25 4.234375 \nQ 6.78125 9.90625 6.78125 20.515625 \nQ 6.78125 27.484375 10.78125 32.3125 \nQ 14.796875 37.15625 21.921875 38.8125 \nz\nM 18.3125 54.390625 \nQ 18.3125 48.734375 21.84375 45.5625 \nQ 25.390625 42.390625 31.78125 42.390625 \nQ 38.140625 42.390625 41.71875 45.5625 \nQ 45.3125 48.734375 45.3125 54.390625 \nQ 45.3125 60.0625 41.71875 63.234375 \nQ 38.140625 66.40625 31.78125 66.40625 \nQ 25.390625 66.40625 21.84375 63.234375 \nQ 18.3125 60.0625 18.3125 54.390625 \nz\n\" id=\"DejaVuSans-56\"/>\n    </defs>\n    <g transform=\"translate(32.002415 14.038594)scale(0.09 -0.09)\">\n     <use xlink:href=\"#DejaVuSans-72\"/>\n     <use x=\"75.195312\" xlink:href=\"#DejaVuSans-32\"/>\n     <use x=\"106.982422\" xlink:href=\"#DejaVuSans-120\"/>\n     <use x=\"166.162109\" xlink:href=\"#DejaVuSans-32\"/>\n     <use x=\"197.949219\" xlink:href=\"#DejaVuSans-87\"/>\n     <use x=\"296.826172\" xlink:href=\"#DejaVuSans-61\"/>\n     <use x=\"380.615234\" xlink:href=\"#DejaVuSans-49\"/>\n     <use x=\"444.238281\" xlink:href=\"#DejaVuSans-50\"/>\n     <use x=\"507.861328\" xlink:href=\"#DejaVuSans-56\"/>\n     <use x=\"571.484375\" xlink:href=\"#DejaVuSans-120\"/>\n     <use x=\"630.664062\" xlink:href=\"#DejaVuSans-49\"/>\n     <use x=\"694.287109\" xlink:href=\"#DejaVuSans-50\"/>\n     <use x=\"757.910156\" xlink:href=\"#DejaVuSans-56\"/>\n    </g>\n   </g>\n  </g>\n  <g id=\"axes_2\">\n   <g clip-path=\"url(#p70ca111c55)\">\n    <image height=\"124\" id=\"imagec2a13bb866\" transform=\"scale(1 -1)translate(0 -124)\" width=\"124\" x=\"168.827586\" xlink:href=\"data:image/png;base64,\niVBORw0KGgoAAAANSUhEUgAAAHwAAAB8CAYAAACrHtS+AAAABHNCSVQICAgIfAhkiAAABR5JREFUeJzt3F1M1XUcx/H3/5zDY0dqqJhotkVLs7ls1WzLVraelhf2dGFpa8OpK5cIS6abNZXSdDVk2k1k2FLn7Mk005mmhqkUVsYOLoEQCkFQFMiQkOyiQSLozsnzP79zft/v6xLG//9h7/3PIxwnceysCygxPKYHqMjS4MJocGE0uDAaXBgNLowGF0aDC6PBhdHgwmhwYTS4MBpcGA0ujAYXRoMLo8GF0eDCaHBhNLgwGlwYDS6MBhdGgwujwYXR4MJocGE0uDAaXBgNLowGF0aDC6PBhdHgwmhwYTS4MBpcGA0ujAYXRoMLo8GF0eDCaPBLXXMdGRMnmV7hGp/pASY9MOP5Pl9LT01m0SO3MH1YSp/vBcpP0LRvRySmucaR9uG6T2RPw3EcHAdWTx4b0s+W1baQ/201AF9/U0lL6R4XFrpLTPDJuTNIiPOSP2k0juNc9fH2VZzk48AJNm4+THvZ/jAsjAwRwTNffYllE0fh84b/IcvuXxp5dskOOsoPhv3YbrD+QducN15m6ePuxAaYMDKNjxY8Svyt41w5frhZe4XnLJnNyMFJTLotnYQ4r+vnK6lqpqbtLDNf3wY1P7t+vv/LyuBz35zNnPE3kZwQ+SchJVXNPJa9FuqPRvzcwbDyJv2Z0UONxAYYl5GKL+VaI+cOhnXBlxbkcMPAZKMbipc/BUMyjG64HKuC563I4YW7biQp3v377CsZlT6A0tXTIXWY0R39sSb44vxspt1tPna3jCF+Dq/LgpTBpqf0Yk3w0YP8URO724hByeCNMz2jFyuC563I4b6bo+tK6lb56SuQNMD0jB5WBL/eH0+8Lzp/lYH+eHCiZ1v0LFEREfPB81bk8OSY6Hs0fLGGnYshPsn0DMCC4Ik+B6/n6t/9clMkXtoNVswHV6HR4MJocGFiO7jXR5w3uu+/eySYfX2/W0wHz1r0IlPuGGF6RlDqt78GXvN/MxrTwQsWrGRNaY3pGUEZOmEedJ03PSO2g6vQaXBhNLgwGlyYmA9+qLaNM2f/Mj3jisp/b4ULf5ueAVgQfMPyd9lZ2Wh6xhXdO2UZdHaYngFYEFyFxorgn/zYQGNrdFxBl/oyUA9dnaZn9LAi+PZ31lB2/IzpGf2akl0EHX+antHDiuAABXuraThzzvSMXgoPVsO5NtMzerEmePF7a8lc/wONLdERvaC4itz5RdCuwV1zoGg9Uz8opcnw/fmSXUdZuHAt/NFsdEd/rAoO8P2HGzht+Hl5ftEBaG0yuuFyrAsOMLWwhFNtZq7yrM8CnK8/ZuTcwTD/Bq0LKrZs4qHOLvz+BLZljcef6P6vOW/rEfYHTlC2ozhqr26wNDjAse1bALjndDvfLXrY1X8fzv3iCIWrNsOp31w7R7hYeZN+sbpdWxkzdwsdnV2uHH/e1iMUrtwUE7HB0k+A6E/KnffjeBx+XfU0njD8HftbeypZtfEnWqoqoLkuDAsjw9qb9Eu1HtoLQHrmv8/TPR4Px99/LqRjfF5Wx8y3dwPQ0VAXM1f1xcQE79YR+O/jtVIn932RJm14Gl/Nf5DbZ23o870LLSfhZK2r+9wm5iY9aF4fpA6HpmOml7jC+gdtIes6b21s0ODiaHBhNLgwGlwYDS6MBhdGgwujwYXR4MJocGE0uDAaXBgNLowGF0aDC6PBhdHgwmhwYTS4MBpcGA0ujAYXRoMLo8GF0eDCaHBhNLgwGlwYDS6MBhdGgwujwYXR4MJocGE0uDD/AHSmGqh64j4WAAAAAElFTkSuQmCC\" y=\"-19.584048\"/>\n   </g>\n   <g id=\"text_2\">\n    <!-- circle -->\n    <defs>\n     <path d=\"M 48.78125 52.59375 \nL 48.78125 44.1875 \nQ 44.96875 46.296875 41.140625 47.34375 \nQ 37.3125 48.390625 33.40625 48.390625 \nQ 24.65625 48.390625 19.8125 42.84375 \nQ 14.984375 37.3125 14.984375 27.296875 \nQ 14.984375 17.28125 19.8125 11.734375 \nQ 24.65625 6.203125 33.40625 6.203125 \nQ 37.3125 6.203125 41.140625 7.25 \nQ 44.96875 8.296875 48.78125 10.40625 \nL 48.78125 2.09375 \nQ 45.015625 0.34375 40.984375 -0.53125 \nQ 36.96875 -1.421875 32.421875 -1.421875 \nQ 20.0625 -1.421875 12.78125 6.34375 \nQ 5.515625 14.109375 5.515625 27.296875 \nQ 5.515625 40.671875 12.859375 48.328125 \nQ 20.21875 56 33.015625 56 \nQ 37.15625 56 41.109375 55.140625 \nQ 45.0625 54.296875 48.78125 52.59375 \nz\n\" id=\"DejaVuSans-99\"/>\n     <path d=\"M 9.421875 54.6875 \nL 18.40625 54.6875 \nL 18.40625 0 \nL 9.421875 0 \nz\nM 9.421875 75.984375 \nL 18.40625 75.984375 \nL 18.40625 64.59375 \nL 9.421875 64.59375 \nz\n\" id=\"DejaVuSans-105\"/>\n     <path d=\"M 41.109375 46.296875 \nQ 39.59375 47.171875 37.8125 47.578125 \nQ 36.03125 48 33.890625 48 \nQ 26.265625 48 22.1875 43.046875 \nQ 18.109375 38.09375 18.109375 28.8125 \nL 18.109375 0 \nL 9.078125 0 \nL 9.078125 54.6875 \nL 18.109375 54.6875 \nL 18.109375 46.1875 \nQ 20.953125 51.171875 25.484375 53.578125 \nQ 30.03125 56 36.53125 56 \nQ 37.453125 56 38.578125 55.875 \nQ 39.703125 55.765625 41.0625 55.515625 \nz\n\" id=\"DejaVuSans-114\"/>\n     <path d=\"M 9.421875 75.984375 \nL 18.40625 75.984375 \nL 18.40625 0 \nL 9.421875 0 \nz\n\" id=\"DejaVuSans-108\"/>\n     <path d=\"M 56.203125 29.59375 \nL 56.203125 25.203125 \nL 14.890625 25.203125 \nQ 15.484375 15.921875 20.484375 11.0625 \nQ 25.484375 6.203125 34.421875 6.203125 \nQ 39.59375 6.203125 44.453125 7.46875 \nQ 49.3125 8.734375 54.109375 11.28125 \nL 54.109375 2.78125 \nQ 49.265625 0.734375 44.1875 -0.34375 \nQ 39.109375 -1.421875 33.890625 -1.421875 \nQ 20.796875 -1.421875 13.15625 6.1875 \nQ 5.515625 13.8125 5.515625 26.8125 \nQ 5.515625 40.234375 12.765625 48.109375 \nQ 20.015625 56 32.328125 56 \nQ 43.359375 56 49.78125 48.890625 \nQ 56.203125 41.796875 56.203125 29.59375 \nz\nM 47.21875 32.234375 \nQ 47.125 39.59375 43.09375 43.984375 \nQ 39.0625 48.390625 32.421875 48.390625 \nQ 24.90625 48.390625 20.390625 44.140625 \nQ 15.875 39.890625 15.1875 32.171875 \nz\n\" id=\"DejaVuSans-101\"/>\n    </defs>\n    <g transform=\"translate(218.633829 14.038594)scale(0.09 -0.09)\">\n     <use xlink:href=\"#DejaVuSans-99\"/>\n     <use x=\"54.980469\" xlink:href=\"#DejaVuSans-105\"/>\n     <use x=\"82.763672\" xlink:href=\"#DejaVuSans-114\"/>\n     <use x=\"121.626953\" xlink:href=\"#DejaVuSans-99\"/>\n     <use x=\"176.607422\" xlink:href=\"#DejaVuSans-108\"/>\n     <use x=\"204.390625\" xlink:href=\"#DejaVuSans-101\"/>\n    </g>\n   </g>\n  </g>\n  <g id=\"axes_3\">\n   <g clip-path=\"url(#pc02f41db97)\">\n    <image height=\"124\" id=\"image5f23a06392\" transform=\"scale(1 -1)translate(0 -124)\" width=\"124\" x=\"330.455172\" xlink:href=\"data:image/png;base64,\niVBORw0KGgoAAAANSUhEUgAAAHwAAAB8CAYAAACrHtS+AAAABHNCSVQICAgIfAhkiAAAATpJREFUeJzt0TERwCAAwMDSCTn4wv9MXZQh/wpylzHXPg8Z7+0A/mV4jOExhscYHmN4jOExhscYHmN4jOExhscYHmN4jOExhscYHmN4jOExhscYHmN4jOExhscYHmN4jOExhscYHmN4jOExhscYHmN4jOExhscYHmN4jOExhscYHmN4jOExhscYHmN4jOExhscYHmN4jOExhscYHmN4jOExhscYHmN4jOExhscYHmN4jOExhscYHmN4jOExhscYHmN4jOExhscYHmN4jOExhscYHmN4jOExhscYHmN4jOExhscYHmN4jOExhscYHmN4jOExhscYHmN4jOExhscYHmN4jOExhscYHmN4jOExhscYHmN4jOExhscYHmN4jOExhscYHmN4jOExhscYHmN4jOExhscYHmN4jOExH7cBAponptLhAAAAAElFTkSuQmCC\" y=\"-19.584048\"/>\n   </g>\n   <g id=\"text_3\">\n    <!-- - -->\n    <defs>\n     <path d=\"M 4.890625 31.390625 \nL 31.203125 31.390625 \nL 31.203125 23.390625 \nL 4.890625 23.390625 \nz\n\" id=\"DejaVuSans-45\"/>\n    </defs>\n    <g transform=\"translate(390.604384 14.038594)scale(0.09 -0.09)\">\n     <use xlink:href=\"#DejaVuSans-45\"/>\n    </g>\n   </g>\n  </g>\n  <g id=\"axes_4\">\n   <g clip-path=\"url(#p5c779b35dc)\">\n    <image height=\"124\" id=\"image97891b1370\" transform=\"scale(1 -1)translate(0 -124)\" width=\"124\" x=\"492.082759\" xlink:href=\"data:image/png;base64,\niVBORw0KGgoAAAANSUhEUgAAAHwAAAB8CAYAAACrHtS+AAAABHNCSVQICAgIfAhkiAAAATpJREFUeJzt0TERwCAAwMDSCTn4wv9MXZQh/wpylzHXPg8Z7+0A/mV4jOExhscYHmN4jOExhscYHmN4jOExhscYHmN4jOExhscYHmN4jOExhscYHmN4jOExhscYHmN4jOExhscYHmN4jOExhscYHmN4jOExhscYHmN4jOExhscYHmN4jOExhscYHmN4jOExhscYHmN4jOExhscYHmN4jOExhscYHmN4jOExhscYHmN4jOExhscYHmN4jOExhscYHmN4jOExhscYHmN4jOExhscYHmN4jOExhscYHmN4jOExhscYHmN4jOExhscYHmN4jOExhscYHmN4jOExhscYHmN4jOExhscYHmN4jOExhscYHmN4jOExhscYHmN4jOExhscYHmN4jOExhscYHmN4jOExhscYHmN4jOExH7cBAponptLhAAAAAElFTkSuQmCC\" y=\"-19.584048\"/>\n   </g>\n   <g id=\"text_4\">\n    <!-- - -->\n    <g transform=\"translate(552.23197 14.038594)scale(0.09 -0.09)\">\n     <use xlink:href=\"#DejaVuSans-45\"/>\n    </g>\n   </g>\n  </g>\n  <g id=\"axes_5\">\n   <g clip-path=\"url(#p849b34a691)\">\n    <image height=\"124\" id=\"image74e0ea2ab3\" transform=\"scale(1 -1)translate(0 -124)\" width=\"124\" x=\"653.710345\" xlink:href=\"data:image/png;base64,\niVBORw0KGgoAAAANSUhEUgAAAHwAAAB8CAYAAACrHtS+AAAABHNCSVQICAgIfAhkiAAAATpJREFUeJzt0TERwCAAwMDSCTn4wv9MXZQh/wpylzHXPg8Z7+0A/mV4jOExhscYHmN4jOExhscYHmN4jOExhscYHmN4jOExhscYHmN4jOExhscYHmN4jOExhscYHmN4jOExhscYHmN4jOExhscYHmN4jOExhscYHmN4jOExhscYHmN4jOExhscYHmN4jOExhscYHmN4jOExhscYHmN4jOExhscYHmN4jOExhscYHmN4jOExhscYHmN4jOExhscYHmN4jOExhscYHmN4jOExhscYHmN4jOExhscYHmN4jOExhscYHmN4jOExhscYHmN4jOExhscYHmN4jOExhscYHmN4jOExhscYHmN4jOExhscYHmN4jOExhscYHmN4jOExhscYHmN4jOExhscYHmN4jOExhscYHmN4jOExH7cBAponptLhAAAAAElFTkSuQmCC\" y=\"-19.584048\"/>\n   </g>\n   <g id=\"text_5\">\n    <!-- - -->\n    <g transform=\"translate(713.859556 14.038594)scale(0.09 -0.09)\">\n     <use xlink:href=\"#DejaVuSans-45\"/>\n    </g>\n   </g>\n  </g>\n </g>\n <defs>\n  <clipPath id=\"p98c1927e00\">\n   <rect height=\"123.545455\" width=\"123.545455\" x=\"7.2\" y=\"20.038594\"/>\n  </clipPath>\n  <clipPath id=\"p70ca111c55\">\n   <rect height=\"123.545455\" width=\"123.545455\" x=\"168.827586\" y=\"20.038594\"/>\n  </clipPath>\n  <clipPath id=\"pc02f41db97\">\n   <rect height=\"123.545455\" width=\"123.545455\" x=\"330.455172\" y=\"20.038594\"/>\n  </clipPath>\n  <clipPath id=\"p5c779b35dc\">\n   <rect height=\"123.545455\" width=\"123.545455\" x=\"492.082759\" y=\"20.038594\"/>\n  </clipPath>\n  <clipPath id=\"p849b34a691\">\n   <rect height=\"123.545455\" width=\"123.545455\" x=\"653.710345\" y=\"20.038594\"/>\n  </clipPath>\n </defs>\n</svg>\n",
      "image/png": "[encoded data removed]"
     },
     "metadata": {
      "needs_background": "light"
     }
    },
    {
     "output_type": "stream",
     "name": "stdout",
     "text": [
      "['BG', 'square', 'circle', 'triangle']\n----- ('square', (69, 242, 81), (76, 41, 32))\n1\nclass_ids [1]\n(128, 128, 1)\n"
     ]
    },
    {
     "output_type": "display_data",
     "data": {
      "text/plain": "<Figure size 1008x360 with 5 Axes>",
      "image/svg+xml": "<?xml version=\"1.0\" encoding=\"utf-8\" standalone=\"no\"?>\n<!DOCTYPE svg PUBLIC \"-//W3C//DTD SVG 1.1//EN\"\n  \"http://www.w3.org/Graphics/SVG/1.1/DTD/svg11.dtd\">\n<!-- Created with matplotlib (https://matplotlib.org/) -->\n<svg height=\"150.784048pt\" version=\"1.1\" viewBox=\"0 0 784.455799 150.784048\" width=\"784.455799pt\" xmlns=\"http://www.w3.org/2000/svg\" xmlns:xlink=\"http://www.w3.org/1999/xlink\">\n <defs>\n  <style type=\"text/css\">\n*{stroke-linecap:butt;stroke-linejoin:round;}\n  </style>\n </defs>\n <g id=\"figure_1\">\n  <g id=\"patch_1\">\n   <path d=\"M 0 150.784048 \nL 784.455799 150.784048 \nL 784.455799 0 \nL 0 0 \nz\n\" style=\"fill:none;\"/>\n  </g>\n  <g id=\"axes_1\">\n   <g clip-path=\"url(#p9d36ad8152)\">\n    <image height=\"124\" id=\"image455fda2b6d\" transform=\"scale(1 -1)translate(0 -124)\" width=\"124\" x=\"7.2\" xlink:href=\"data:image/png;base64,\niVBORw0KGgoAAAANSUhEUgAAAHwAAAB8CAYAAACrHtS+AAAABHNCSVQICAgIfAhkiAAAAZpJREFUeJzt3bFJQ1EYhuGr6C0CdtERokuYFWycxyFcwB0cRRC0cgBDKrFIoytYBA+X93kG+PnghdOek8e7p5+JjNPRA/hfgscIHiN4jOAxgscIHiN4jOAxgscIHiN4jOAxgscIHiN4jOAxgscIHiN4jOAxgscIHiN4jOAxgscIHiN4jOAxgscIHiN4jOAxgscIHiN4jOAxgscIHiN4jOAxgscIHiN4jOAxgscIHiN4jOAxgscIHnM2esBf7W520/v92+gZQ1y+XE2b581Rbi0m+OHiMO2v96NnDLH6XB3tlic9RvAYwWMEjxE8RvAYwWMEjxE8RvAYwWMEjxE8RvAYwWMEjxE8RvAYwWMEjxE8RvAYwWMEjxE8RvAYwWMEjxE8RvAYwWMEjxE8RvAYwWMEjxE8RvAYwWMEjxE8RvAYwWMEjxE8RvAYwWMEjxE8RvAYwWMEjxE8RvAYwWMEjxE8RvAYwWMEjxE8ZjG/C69f19Ptw3b0jCHmr/Oj3VpM8Pl7nuaPefSMxfOkxwgeI3iM4DGCxwgeI3jML+BuE2SMmTu9AAAAAElFTkSuQmCC\" y=\"-19.584048\"/>\n   </g>\n   <g id=\"text_1\">\n    <!-- H x W=128x128 -->\n    <defs>\n     <path d=\"M 9.8125 72.90625 \nL 19.671875 72.90625 \nL 19.671875 43.015625 \nL 55.515625 43.015625 \nL 55.515625 72.90625 \nL 65.375 72.90625 \nL 65.375 0 \nL 55.515625 0 \nL 55.515625 34.71875 \nL 19.671875 34.71875 \nL 19.671875 0 \nL 9.8125 0 \nz\n\" id=\"DejaVuSans-72\"/>\n     <path id=\"DejaVuSans-32\"/>\n     <path d=\"M 54.890625 54.6875 \nL 35.109375 28.078125 \nL 55.90625 0 \nL 45.3125 0 \nL 29.390625 21.484375 \nL 13.484375 0 \nL 2.875 0 \nL 24.125 28.609375 \nL 4.6875 54.6875 \nL 15.28125 54.6875 \nL 29.78125 35.203125 \nL 44.28125 54.6875 \nz\n\" id=\"DejaVuSans-120\"/>\n     <path d=\"M 3.328125 72.90625 \nL 13.28125 72.90625 \nL 28.609375 11.28125 \nL 43.890625 72.90625 \nL 54.984375 72.90625 \nL 70.3125 11.28125 \nL 85.59375 72.90625 \nL 95.609375 72.90625 \nL 77.296875 0 \nL 64.890625 0 \nL 49.515625 63.28125 \nL 33.984375 0 \nL 21.578125 0 \nz\n\" id=\"DejaVuSans-87\"/>\n     <path d=\"M 10.59375 45.40625 \nL 73.1875 45.40625 \nL 73.1875 37.203125 \nL 10.59375 37.203125 \nz\nM 10.59375 25.484375 \nL 73.1875 25.484375 \nL 73.1875 17.1875 \nL 10.59375 17.1875 \nz\n\" id=\"DejaVuSans-61\"/>\n     <path d=\"M 12.40625 8.296875 \nL 28.515625 8.296875 \nL 28.515625 63.921875 \nL 10.984375 60.40625 \nL 10.984375 69.390625 \nL 28.421875 72.90625 \nL 38.28125 72.90625 \nL 38.28125 8.296875 \nL 54.390625 8.296875 \nL 54.390625 0 \nL 12.40625 0 \nz\n\" id=\"DejaVuSans-49\"/>\n     <path d=\"M 19.1875 8.296875 \nL 53.609375 8.296875 \nL 53.609375 0 \nL 7.328125 0 \nL 7.328125 8.296875 \nQ 12.9375 14.109375 22.625 23.890625 \nQ 32.328125 33.6875 34.8125 36.53125 \nQ 39.546875 41.84375 41.421875 45.53125 \nQ 43.3125 49.21875 43.3125 52.78125 \nQ 43.3125 58.59375 39.234375 62.25 \nQ 35.15625 65.921875 28.609375 65.921875 \nQ 23.96875 65.921875 18.8125 64.3125 \nQ 13.671875 62.703125 7.8125 59.421875 \nL 7.8125 69.390625 \nQ 13.765625 71.78125 18.9375 73 \nQ 24.125 74.21875 28.421875 74.21875 \nQ 39.75 74.21875 46.484375 68.546875 \nQ 53.21875 62.890625 53.21875 53.421875 \nQ 53.21875 48.921875 51.53125 44.890625 \nQ 49.859375 40.875 45.40625 35.40625 \nQ 44.1875 33.984375 37.640625 27.21875 \nQ 31.109375 20.453125 19.1875 8.296875 \nz\n\" id=\"DejaVuSans-50\"/>\n     <path d=\"M 31.78125 34.625 \nQ 24.75 34.625 20.71875 30.859375 \nQ 16.703125 27.09375 16.703125 20.515625 \nQ 16.703125 13.921875 20.71875 10.15625 \nQ 24.75 6.390625 31.78125 6.390625 \nQ 38.8125 6.390625 42.859375 10.171875 \nQ 46.921875 13.96875 46.921875 20.515625 \nQ 46.921875 27.09375 42.890625 30.859375 \nQ 38.875 34.625 31.78125 34.625 \nz\nM 21.921875 38.8125 \nQ 15.578125 40.375 12.03125 44.71875 \nQ 8.5 49.078125 8.5 55.328125 \nQ 8.5 64.0625 14.71875 69.140625 \nQ 20.953125 74.21875 31.78125 74.21875 \nQ 42.671875 74.21875 48.875 69.140625 \nQ 55.078125 64.0625 55.078125 55.328125 \nQ 55.078125 49.078125 51.53125 44.71875 \nQ 48 40.375 41.703125 38.8125 \nQ 48.828125 37.15625 52.796875 32.3125 \nQ 56.78125 27.484375 56.78125 20.515625 \nQ 56.78125 9.90625 50.3125 4.234375 \nQ 43.84375 -1.421875 31.78125 -1.421875 \nQ 19.734375 -1.421875 13.25 4.234375 \nQ 6.78125 9.90625 6.78125 20.515625 \nQ 6.78125 27.484375 10.78125 32.3125 \nQ 14.796875 37.15625 21.921875 38.8125 \nz\nM 18.3125 54.390625 \nQ 18.3125 48.734375 21.84375 45.5625 \nQ 25.390625 42.390625 31.78125 42.390625 \nQ 38.140625 42.390625 41.71875 45.5625 \nQ 45.3125 48.734375 45.3125 54.390625 \nQ 45.3125 60.0625 41.71875 63.234375 \nQ 38.140625 66.40625 31.78125 66.40625 \nQ 25.390625 66.40625 21.84375 63.234375 \nQ 18.3125 60.0625 18.3125 54.390625 \nz\n\" id=\"DejaVuSans-56\"/>\n    </defs>\n    <g transform=\"translate(32.002415 14.038594)scale(0.09 -0.09)\">\n     <use xlink:href=\"#DejaVuSans-72\"/>\n     <use x=\"75.195312\" xlink:href=\"#DejaVuSans-32\"/>\n     <use x=\"106.982422\" xlink:href=\"#DejaVuSans-120\"/>\n     <use x=\"166.162109\" xlink:href=\"#DejaVuSans-32\"/>\n     <use x=\"197.949219\" xlink:href=\"#DejaVuSans-87\"/>\n     <use x=\"296.826172\" xlink:href=\"#DejaVuSans-61\"/>\n     <use x=\"380.615234\" xlink:href=\"#DejaVuSans-49\"/>\n     <use x=\"444.238281\" xlink:href=\"#DejaVuSans-50\"/>\n     <use x=\"507.861328\" xlink:href=\"#DejaVuSans-56\"/>\n     <use x=\"571.484375\" xlink:href=\"#DejaVuSans-120\"/>\n     <use x=\"630.664062\" xlink:href=\"#DejaVuSans-49\"/>\n     <use x=\"694.287109\" xlink:href=\"#DejaVuSans-50\"/>\n     <use x=\"757.910156\" xlink:href=\"#DejaVuSans-56\"/>\n    </g>\n   </g>\n  </g>\n  <g id=\"axes_2\">\n   <g clip-path=\"url(#pc17ff5dbd2)\">\n    <image height=\"124\" id=\"image2f82409273\" transform=\"scale(1 -1)translate(0 -124)\" width=\"124\" x=\"168.827586\" xlink:href=\"data:image/png;base64,\niVBORw0KGgoAAAANSUhEUgAAAHwAAAB8CAYAAACrHtS+AAAABHNCSVQICAgIfAhkiAAAAi5JREFUeJzt3SFOA0EcRvFdgiDBICpwcAPwILCcBc7BGTCoGg6BxpBguACCVEGahgOUK5DmC5OP934H2Ezy2v/MZsTOB+c320kYe6MXoL9lcBiDwxgcxuAwBocxOIzBYQwOY3AYg8MYHMbgMAaHMTiMwWEMDmNwGIPDGBzG4DAGhzE4jMFhDA5jcBiDwxgcxuAwBocxOIzBYQwOY3AYg8MYHMbgMAaHMTiMwWEMDmNwGIPDGBzG4DAGhzE4jMFhDA5jcBiDw+yPXsBvHV9dT4+3F6OXMcTD68e0vLuPPKsm+GJxOJ2dHI1exhCX6+9pGXpWzUif59Er+B9qgm/92FZETXBl1AQnj/RtcLzVBCebg7/2muDu4Rk1wZVRE9w9PKMmOHmkI/dwZdQEJ4/0pJrg5JGeVBNcGTXBHekZNcEd6Rk1wZVhcBiDwxgcxuAwNcF9LcuoCU5+LUPelpF5W6adGRymJriHtoya4ORDW1JNcGXUBHekZ9QEV0ZNcPfwjJrgjvSMmuD+wzNqgiujJjh5pHt5AoO8PHEPz6gJroya4O7hGTXBySMduYcroyY4eaQn1QQnj/SkmuDKqAnuSM+oCe5Iz6gJrgyDwxgcxuAwBoepCe5rWUZNcPJrGfK2jMzbMu3M4DA1wT20ZdQEJx/akmqCK6MmuCM9oya4Mmq+Lvz29Dydvn+OXsYQm69N7Fk1waf1atq8rEavop4jHcbgMAaHMTiMwWEMDmNwmB9C2kd9UnuojwAAAABJRU5ErkJggg==\" y=\"-19.584048\"/>\n   </g>\n   <g id=\"text_2\">\n    <!-- square -->\n    <defs>\n     <path d=\"M 44.28125 53.078125 \nL 44.28125 44.578125 \nQ 40.484375 46.53125 36.375 47.5 \nQ 32.28125 48.484375 27.875 48.484375 \nQ 21.1875 48.484375 17.84375 46.4375 \nQ 14.5 44.390625 14.5 40.28125 \nQ 14.5 37.15625 16.890625 35.375 \nQ 19.28125 33.59375 26.515625 31.984375 \nL 29.59375 31.296875 \nQ 39.15625 29.25 43.1875 25.515625 \nQ 47.21875 21.78125 47.21875 15.09375 \nQ 47.21875 7.46875 41.1875 3.015625 \nQ 35.15625 -1.421875 24.609375 -1.421875 \nQ 20.21875 -1.421875 15.453125 -0.5625 \nQ 10.6875 0.296875 5.421875 2 \nL 5.421875 11.28125 \nQ 10.40625 8.6875 15.234375 7.390625 \nQ 20.0625 6.109375 24.8125 6.109375 \nQ 31.15625 6.109375 34.5625 8.28125 \nQ 37.984375 10.453125 37.984375 14.40625 \nQ 37.984375 18.0625 35.515625 20.015625 \nQ 33.0625 21.96875 24.703125 23.78125 \nL 21.578125 24.515625 \nQ 13.234375 26.265625 9.515625 29.90625 \nQ 5.8125 33.546875 5.8125 39.890625 \nQ 5.8125 47.609375 11.28125 51.796875 \nQ 16.75 56 26.8125 56 \nQ 31.78125 56 36.171875 55.265625 \nQ 40.578125 54.546875 44.28125 53.078125 \nz\n\" id=\"DejaVuSans-115\"/>\n     <path d=\"M 14.796875 27.296875 \nQ 14.796875 17.390625 18.875 11.75 \nQ 22.953125 6.109375 30.078125 6.109375 \nQ 37.203125 6.109375 41.296875 11.75 \nQ 45.40625 17.390625 45.40625 27.296875 \nQ 45.40625 37.203125 41.296875 42.84375 \nQ 37.203125 48.484375 30.078125 48.484375 \nQ 22.953125 48.484375 18.875 42.84375 \nQ 14.796875 37.203125 14.796875 27.296875 \nz\nM 45.40625 8.203125 \nQ 42.578125 3.328125 38.25 0.953125 \nQ 33.9375 -1.421875 27.875 -1.421875 \nQ 17.96875 -1.421875 11.734375 6.484375 \nQ 5.515625 14.40625 5.515625 27.296875 \nQ 5.515625 40.1875 11.734375 48.09375 \nQ 17.96875 56 27.875 56 \nQ 33.9375 56 38.25 53.625 \nQ 42.578125 51.265625 45.40625 46.390625 \nL 45.40625 54.6875 \nL 54.390625 54.6875 \nL 54.390625 -20.796875 \nL 45.40625 -20.796875 \nz\n\" id=\"DejaVuSans-113\"/>\n     <path d=\"M 8.5 21.578125 \nL 8.5 54.6875 \nL 17.484375 54.6875 \nL 17.484375 21.921875 \nQ 17.484375 14.15625 20.5 10.265625 \nQ 23.53125 6.390625 29.59375 6.390625 \nQ 36.859375 6.390625 41.078125 11.03125 \nQ 45.3125 15.671875 45.3125 23.6875 \nL 45.3125 54.6875 \nL 54.296875 54.6875 \nL 54.296875 0 \nL 45.3125 0 \nL 45.3125 8.40625 \nQ 42.046875 3.421875 37.71875 1 \nQ 33.40625 -1.421875 27.6875 -1.421875 \nQ 18.265625 -1.421875 13.375 4.4375 \nQ 8.5 10.296875 8.5 21.578125 \nz\nM 31.109375 56 \nz\n\" id=\"DejaVuSans-117\"/>\n     <path d=\"M 34.28125 27.484375 \nQ 23.390625 27.484375 19.1875 25 \nQ 14.984375 22.515625 14.984375 16.5 \nQ 14.984375 11.71875 18.140625 8.90625 \nQ 21.296875 6.109375 26.703125 6.109375 \nQ 34.1875 6.109375 38.703125 11.40625 \nQ 43.21875 16.703125 43.21875 25.484375 \nL 43.21875 27.484375 \nz\nM 52.203125 31.203125 \nL 52.203125 0 \nL 43.21875 0 \nL 43.21875 8.296875 \nQ 40.140625 3.328125 35.546875 0.953125 \nQ 30.953125 -1.421875 24.3125 -1.421875 \nQ 15.921875 -1.421875 10.953125 3.296875 \nQ 6 8.015625 6 15.921875 \nQ 6 25.140625 12.171875 29.828125 \nQ 18.359375 34.515625 30.609375 34.515625 \nL 43.21875 34.515625 \nL 43.21875 35.40625 \nQ 43.21875 41.609375 39.140625 45 \nQ 35.0625 48.390625 27.6875 48.390625 \nQ 23 48.390625 18.546875 47.265625 \nQ 14.109375 46.140625 10.015625 43.890625 \nL 10.015625 52.203125 \nQ 14.9375 54.109375 19.578125 55.046875 \nQ 24.21875 56 28.609375 56 \nQ 40.484375 56 46.34375 49.84375 \nQ 52.203125 43.703125 52.203125 31.203125 \nz\n\" id=\"DejaVuSans-97\"/>\n     <path d=\"M 41.109375 46.296875 \nQ 39.59375 47.171875 37.8125 47.578125 \nQ 36.03125 48 33.890625 48 \nQ 26.265625 48 22.1875 43.046875 \nQ 18.109375 38.09375 18.109375 28.8125 \nL 18.109375 0 \nL 9.078125 0 \nL 9.078125 54.6875 \nL 18.109375 54.6875 \nL 18.109375 46.1875 \nQ 20.953125 51.171875 25.484375 53.578125 \nQ 30.03125 56 36.53125 56 \nQ 37.453125 56 38.578125 55.875 \nQ 39.703125 55.765625 41.0625 55.515625 \nz\n\" id=\"DejaVuSans-114\"/>\n     <path d=\"M 56.203125 29.59375 \nL 56.203125 25.203125 \nL 14.890625 25.203125 \nQ 15.484375 15.921875 20.484375 11.0625 \nQ 25.484375 6.203125 34.421875 6.203125 \nQ 39.59375 6.203125 44.453125 7.46875 \nQ 49.3125 8.734375 54.109375 11.28125 \nL 54.109375 2.78125 \nQ 49.265625 0.734375 44.1875 -0.34375 \nQ 39.109375 -1.421875 33.890625 -1.421875 \nQ 20.796875 -1.421875 13.15625 6.1875 \nQ 5.515625 13.8125 5.515625 26.8125 \nQ 5.515625 40.234375 12.765625 48.109375 \nQ 20.015625 56 32.328125 56 \nQ 43.359375 56 49.78125 48.890625 \nQ 56.203125 41.796875 56.203125 29.59375 \nz\nM 47.21875 32.234375 \nQ 47.125 39.59375 43.09375 43.984375 \nQ 39.0625 48.390625 32.421875 48.390625 \nQ 24.90625 48.390625 20.390625 44.140625 \nQ 15.875 39.890625 15.1875 32.171875 \nz\n\" id=\"DejaVuSans-101\"/>\n    </defs>\n    <g transform=\"translate(215.272188 14.038594)scale(0.09 -0.09)\">\n     <use xlink:href=\"#DejaVuSans-115\"/>\n     <use x=\"52.099609\" xlink:href=\"#DejaVuSans-113\"/>\n     <use x=\"115.576172\" xlink:href=\"#DejaVuSans-117\"/>\n     <use x=\"178.955078\" xlink:href=\"#DejaVuSans-97\"/>\n     <use x=\"240.234375\" xlink:href=\"#DejaVuSans-114\"/>\n     <use x=\"279.097656\" xlink:href=\"#DejaVuSans-101\"/>\n    </g>\n   </g>\n  </g>\n  <g id=\"axes_3\">\n   <g clip-path=\"url(#p60914dc56e)\">\n    <image height=\"124\" id=\"image307af61fc9\" transform=\"scale(1 -1)translate(0 -124)\" width=\"124\" x=\"330.455172\" xlink:href=\"data:image/png;base64,\niVBORw0KGgoAAAANSUhEUgAAAHwAAAB8CAYAAACrHtS+AAAABHNCSVQICAgIfAhkiAAAATpJREFUeJzt0TERwCAAwMDSCTn4wv9MXZQh/wpylzHXPg8Z7+0A/mV4jOExhscYHmN4jOExhscYHmN4jOExhscYHmN4jOExhscYHmN4jOExhscYHmN4jOExhscYHmN4jOExhscYHmN4jOExhscYHmN4jOExhscYHmN4jOExhscYHmN4jOExhscYHmN4jOExhscYHmN4jOExhscYHmN4jOExhscYHmN4jOExhscYHmN4jOExhscYHmN4jOExhscYHmN4jOExhscYHmN4jOExhscYHmN4jOExhscYHmN4jOExhscYHmN4jOExhscYHmN4jOExhscYHmN4jOExhscYHmN4jOExhscYHmN4jOExhscYHmN4jOExhscYHmN4jOExhscYHmN4jOExhscYHmN4jOExhscYHmN4jOExH7cBAponptLhAAAAAElFTkSuQmCC\" y=\"-19.584048\"/>\n   </g>\n   <g id=\"text_3\">\n    <!-- - -->\n    <defs>\n     <path d=\"M 4.890625 31.390625 \nL 31.203125 31.390625 \nL 31.203125 23.390625 \nL 4.890625 23.390625 \nz\n\" id=\"DejaVuSans-45\"/>\n    </defs>\n    <g transform=\"translate(390.604384 14.038594)scale(0.09 -0.09)\">\n     <use xlink:href=\"#DejaVuSans-45\"/>\n    </g>\n   </g>\n  </g>\n  <g id=\"axes_4\">\n   <g clip-path=\"url(#pad9c414ba4)\">\n    <image height=\"124\" id=\"image3ab4071eeb\" transform=\"scale(1 -1)translate(0 -124)\" width=\"124\" x=\"492.082759\" xlink:href=\"data:image/png;base64,\niVBORw0KGgoAAAANSUhEUgAAAHwAAAB8CAYAAACrHtS+AAAABHNCSVQICAgIfAhkiAAAATpJREFUeJzt0TERwCAAwMDSCTn4wv9MXZQh/wpylzHXPg8Z7+0A/mV4jOExhscYHmN4jOExhscYHmN4jOExhscYHmN4jOExhscYHmN4jOExhscYHmN4jOExhscYHmN4jOExhscYHmN4jOExhscYHmN4jOExhscYHmN4jOExhscYHmN4jOExhscYHmN4jOExhscYHmN4jOExhscYHmN4jOExhscYHmN4jOExhscYHmN4jOExhscYHmN4jOExhscYHmN4jOExhscYHmN4jOExhscYHmN4jOExhscYHmN4jOExhscYHmN4jOExhscYHmN4jOExhscYHmN4jOExhscYHmN4jOExhscYHmN4jOExhscYHmN4jOExhscYHmN4jOExhscYHmN4jOExhscYHmN4jOExhscYHmN4jOExH7cBAponptLhAAAAAElFTkSuQmCC\" y=\"-19.584048\"/>\n   </g>\n   <g id=\"text_4\">\n    <!-- - -->\n    <g transform=\"translate(552.23197 14.038594)scale(0.09 -0.09)\">\n     <use xlink:href=\"#DejaVuSans-45\"/>\n    </g>\n   </g>\n  </g>\n  <g id=\"axes_5\">\n   <g clip-path=\"url(#p3df9a61da3)\">\n    <image height=\"124\" id=\"image6dd0ce8e03\" transform=\"scale(1 -1)translate(0 -124)\" width=\"124\" x=\"653.710345\" xlink:href=\"data:image/png;base64,\niVBORw0KGgoAAAANSUhEUgAAAHwAAAB8CAYAAACrHtS+AAAABHNCSVQICAgIfAhkiAAAATpJREFUeJzt0TERwCAAwMDSCTn4wv9MXZQh/wpylzHXPg8Z7+0A/mV4jOExhscYHmN4jOExhscYHmN4jOExhscYHmN4jOExhscYHmN4jOExhscYHmN4jOExhscYHmN4jOExhscYHmN4jOExhscYHmN4jOExhscYHmN4jOExhscYHmN4jOExhscYHmN4jOExhscYHmN4jOExhscYHmN4jOExhscYHmN4jOExhscYHmN4jOExhscYHmN4jOExhscYHmN4jOExhscYHmN4jOExhscYHmN4jOExhscYHmN4jOExhscYHmN4jOExhscYHmN4jOExhscYHmN4jOExhscYHmN4jOExhscYHmN4jOExhscYHmN4jOExhscYHmN4jOExhscYHmN4jOExhscYHmN4jOExhscYHmN4jOExH7cBAponptLhAAAAAElFTkSuQmCC\" y=\"-19.584048\"/>\n   </g>\n   <g id=\"text_5\">\n    <!-- - -->\n    <g transform=\"translate(713.859556 14.038594)scale(0.09 -0.09)\">\n     <use xlink:href=\"#DejaVuSans-45\"/>\n    </g>\n   </g>\n  </g>\n </g>\n <defs>\n  <clipPath id=\"p9d36ad8152\">\n   <rect height=\"123.545455\" width=\"123.545455\" x=\"7.2\" y=\"20.038594\"/>\n  </clipPath>\n  <clipPath id=\"pc17ff5dbd2\">\n   <rect height=\"123.545455\" width=\"123.545455\" x=\"168.827586\" y=\"20.038594\"/>\n  </clipPath>\n  <clipPath id=\"p60914dc56e\">\n   <rect height=\"123.545455\" width=\"123.545455\" x=\"330.455172\" y=\"20.038594\"/>\n  </clipPath>\n  <clipPath id=\"pad9c414ba4\">\n   <rect height=\"123.545455\" width=\"123.545455\" x=\"492.082759\" y=\"20.038594\"/>\n  </clipPath>\n  <clipPath id=\"p3df9a61da3\">\n   <rect height=\"123.545455\" width=\"123.545455\" x=\"653.710345\" y=\"20.038594\"/>\n  </clipPath>\n </defs>\n</svg>\n",
      "image/png": "[encoded data removed]"
     },
     "metadata": {
      "needs_background": "light"
     }
    }
   ],
   "source": [
    "class ShapesDataset(utils.Dataset):\n",
    "    \"\"\"Generates the shapes synthetic dataset. The dataset consists of simple\n",
    "    shapes (triangles, squares, circles) placed randomly on a blank surface.\n",
    "    The images are generated on the fly. No file access required.\n",
    "    \"\"\"\n",
    "\n",
    "    def load_shapes(self, count, height, width):\n",
    "        \"\"\"Generate the requested number of synthetic images.\n",
    "        count: number of images to generate.\n",
    "        height, width: the size of the generated images.\n",
    "        \"\"\"\n",
    "        # Add classes\n",
    "        self.add_class(\"shapes\", 1, \"square\")\n",
    "        self.add_class(\"shapes\", 2, \"circle\")\n",
    "        self.add_class(\"shapes\", 3, \"triangle\")\n",
    "\n",
    "        # Add images\n",
    "        # Generate random specifications of images (i.e. color and\n",
    "        # list of shapes sizes and locations). This is more compact than\n",
    "        # actual images. Images are generated on the fly in load_image().\n",
    "        for i in range(count):\n",
    "            bg_color, shapes = self.random_image(height, width)\n",
    "            self.add_image(\"shapes\", image_id=i, path=None,\n",
    "                           width=width, height=height,\n",
    "                           bg_color=bg_color, shapes=shapes)\n",
    "\n",
    "    def load_image(self, image_id):\n",
    "        \"\"\"Generate an image from the specs of the given image ID.\n",
    "        Typically this function loads the image from a file, but\n",
    "        in this case it generates the image on the fly from the\n",
    "        specs in image_info.\n",
    "        \"\"\"\n",
    "        info = self.image_info[image_id]\n",
    "        bg_color = np.array(info['bg_color']).reshape([1, 1, 3])\n",
    "        image = np.ones([info['height'], info['width'], 3], dtype=np.uint8)\n",
    "        image = image * bg_color.astype(np.uint8)\n",
    "        for shape, color, dims in info['shapes']:\n",
    "            image = self.draw_shape(image, shape, dims, color)\n",
    "        return image\n",
    "\n",
    "    def image_reference(self, image_id):\n",
    "        \"\"\"Return the shapes data of the image.\"\"\"\n",
    "        info = self.image_info[image_id]\n",
    "        if info[\"source\"] == \"shapes\":\n",
    "            return info[\"shapes\"]\n",
    "        else:\n",
    "            super(self.__class__).image_reference(self, image_id)\n",
    "\n",
    "    def load_mask(self, image_id):\n",
    "        \"\"\"Generate instance masks for shapes of the given image ID.\n",
    "        \"\"\"\n",
    "        info = self.image_info[image_id]\n",
    "        shapes = info['shapes']\n",
    "        # print('info[shapes]', shapes)\n",
    "        count = len(shapes)\n",
    "        # print('len shapes', count)\n",
    "\n",
    "        mask = np.zeros([info['height'], info['width'], count], dtype=np.uint8)\n",
    "        for i, (shape, _, dims) in enumerate(info['shapes']):\n",
    "            mask[:, :, i:i+1] = self.draw_shape(mask[:, :, i:i+1].copy(),\n",
    "                                                shape, dims, 1)\n",
    "        # Handle occlusions\n",
    "        occlusion = np.logical_not(mask[:, :, -1]).astype(np.uint8)\n",
    "        for i in range(count-2, -1, -1):\n",
    "            mask[:, :, i] = mask[:, :, i] * occlusion\n",
    "            occlusion = np.logical_and(occlusion, np.logical_not(mask[:, :, i]))\n",
    "        # Map class names to class IDs.\n",
    "        print(self.class_names)\n",
    "        for s in shapes:\n",
    "            print('-----', s)\n",
    "            print(self.class_names.index(s[0]))\n",
    "        class_ids = np.array([self.class_names.index(s[0]) for s in shapes])\n",
    "        print('class_ids', class_ids)\n",
    "\n",
    "        print(mask.astype(np.bool).shape)\n",
    "        return mask.astype(np.bool), class_ids.astype(np.int32)\n",
    "\n",
    "    def draw_shape(self, image, shape, dims, color):\n",
    "        \"\"\"Draws a shape from the given specs.\"\"\"\n",
    "        # Get the center x, y and the size s\n",
    "        x, y, s = dims\n",
    "        if shape == 'square':\n",
    "            cv2.rectangle(image, (x-s, y-s), (x+s, y+s), color, -1)\n",
    "        elif shape == \"circle\":\n",
    "            cv2.circle(image, (x, y), s, color, -1)\n",
    "        elif shape == \"triangle\":\n",
    "            points = np.array([[(x, y-s),\n",
    "                                (x-s/math.sin(math.radians(60)), y+s),\n",
    "                                (x+s/math.sin(math.radians(60)), y+s),\n",
    "                                ]], dtype=np.int32)\n",
    "            cv2.fillPoly(image, points, color)\n",
    "        return image\n",
    "\n",
    "    def random_shape(self, height, width):\n",
    "        \"\"\"Generates specifications of a random shape that lies within\n",
    "        the given height and width boundaries.\n",
    "        Returns a tuple of three valus:\n",
    "        * The shape name (square, circle, ...)\n",
    "        * Shape color: a tuple of 3 values, RGB.\n",
    "        * Shape dimensions: A tuple of values that define the shape size\n",
    "                            and location. Differs per shape type.\n",
    "        \"\"\"\n",
    "        # Shape\n",
    "        shape = random.choice([\"square\", \"circle\", \"triangle\"])\n",
    "        # Color\n",
    "        color = tuple([random.randint(0, 255) for _ in range(3)])\n",
    "        # Center x, y\n",
    "        buffer = 20\n",
    "        y = random.randint(buffer, height - buffer - 1)\n",
    "        x = random.randint(buffer, width - buffer - 1)\n",
    "        # Size\n",
    "        s = random.randint(buffer, height//4)\n",
    "        return shape, color, (x, y, s)\n",
    "\n",
    "    def random_image(self, height, width):\n",
    "        \"\"\"Creates random specifications of an image with multiple shapes.\n",
    "        Returns the background color of the image and a list of shape\n",
    "        specifications that can be used to draw the image.\n",
    "        \"\"\"\n",
    "        # Pick random background color\n",
    "        bg_color = np.array([random.randint(0, 255) for _ in range(3)])\n",
    "        # Generate a few random shapes and record their\n",
    "        # bounding boxes\n",
    "        shapes = []\n",
    "        boxes = []\n",
    "        N = random.randint(1, 4)\n",
    "        for _ in range(N):\n",
    "            shape, color, dims = self.random_shape(height, width)\n",
    "            shapes.append((shape, color, dims))\n",
    "            x, y, s = dims\n",
    "            boxes.append([y-s, x-s, y+s, x+s])\n",
    "        # Apply non-max suppression wit 0.3 threshold to avoid\n",
    "        # shapes covering each other\n",
    "        keep_ixs = utils.non_max_suppression(np.array(boxes), np.arange(N), 0.3)\n",
    "        shapes = [s for i, s in enumerate(shapes) if i in keep_ixs]\n",
    "        return bg_color, shapes\n",
    "\n",
    "\n",
    "# Training dataset\n",
    "dataset_train = ShapesDataset()\n",
    "dataset_train.load_shapes(500, config.IMAGE_SHAPE[0], config.IMAGE_SHAPE[1])\n",
    "dataset_train.prepare()\n",
    "\n",
    "# Validation dataset\n",
    "dataset_val = ShapesDataset()\n",
    "dataset_val.load_shapes(50, config.IMAGE_SHAPE[0], config.IMAGE_SHAPE[1])\n",
    "dataset_val.prepare()\n",
    "\n",
    "# Load and display random samples\n",
    "image_ids = np.random.choice(dataset_train.image_ids, 2)\n",
    "for image_id in image_ids:\n",
    "    image = dataset_train.load_image(image_id)\n",
    "    mask, class_ids = dataset_train.load_mask(image_id)\n",
    "    visualize.display_top_masks(image, mask, class_ids, dataset_train.class_names)"
   ]
  },
  {
   "cell_type": "markdown",
   "metadata": {},
   "source": [
    "## Create Model"
   ]
  },
  {
   "cell_type": "code",
   "execution_count": 5,
   "metadata": {
    "collapsed": true
   },
   "outputs": [
    {
     "output_type": "stream",
     "name": "stdout",
     "text": [
      "WARNING:tensorflow:From /home/ash/anaconda3/envs/maskrcnn/lib/python3.6/site-packages/keras/backend/tensorflow_backend.py:541: The name tf.placeholder is deprecated. Please use tf.compat.v1.placeholder instead.\n",
      "\n",
      "WARNING:tensorflow:From /home/ash/anaconda3/envs/maskrcnn/lib/python3.6/site-packages/keras/backend/tensorflow_backend.py:66: The name tf.get_default_graph is deprecated. Please use tf.compat.v1.get_default_graph instead.\n",
      "\n",
      "WARNING:tensorflow:From /home/ash/anaconda3/envs/maskrcnn/lib/python3.6/site-packages/keras/backend/tensorflow_backend.py:4432: The name tf.random_uniform is deprecated. Please use tf.random.uniform instead.\n",
      "\n",
      "WARNING:tensorflow:From /home/ash/anaconda3/envs/maskrcnn/lib/python3.6/site-packages/keras/backend/tensorflow_backend.py:2139: The name tf.nn.fused_batch_norm is deprecated. Please use tf.compat.v1.nn.fused_batch_norm instead.\n",
      "\n",
      "WARNING:tensorflow:From /home/ash/anaconda3/envs/maskrcnn/lib/python3.6/site-packages/keras/backend/tensorflow_backend.py:4267: The name tf.nn.max_pool is deprecated. Please use tf.nn.max_pool2d instead.\n",
      "\n",
      "WARNING:tensorflow:From /home/ash/anaconda3/envs/maskrcnn/lib/python3.6/site-packages/keras/backend/tensorflow_backend.py:2239: The name tf.image.resize_nearest_neighbor is deprecated. Please use tf.compat.v1.image.resize_nearest_neighbor instead.\n",
      "\n",
      "WARNING:tensorflow:From /home/ash/anaconda3/envs/maskrcnn/lib/python3.6/site-packages/tensorflow/python/ops/array_ops.py:1354: add_dispatch_support.<locals>.wrapper (from tensorflow.python.ops.array_ops) is deprecated and will be removed in a future version.\n",
      "Instructions for updating:\n",
      "Use tf.where in 2.0, which has the same broadcast rule as np.where\n",
      "WARNING:tensorflow:From /home/ash/anaconda3/envs/maskrcnn/lib/python3.6/site-packages/mask_rcnn-2.1-py3.6.egg/mrcnn/model.py:553: The name tf.random_shuffle is deprecated. Please use tf.random.shuffle instead.\n",
      "\n",
      "WARNING:tensorflow:From /home/ash/anaconda3/envs/maskrcnn/lib/python3.6/site-packages/mask_rcnn-2.1-py3.6.egg/mrcnn/utils.py:202: The name tf.log is deprecated. Please use tf.math.log instead.\n",
      "\n",
      "WARNING:tensorflow:From /home/ash/anaconda3/envs/maskrcnn/lib/python3.6/site-packages/mask_rcnn-2.1-py3.6.egg/mrcnn/model.py:600: calling crop_and_resize_v1 (from tensorflow.python.ops.image_ops_impl) with box_ind is deprecated and will be removed in a future version.\n",
      "Instructions for updating:\n",
      "box_ind is deprecated, use box_indices instead\n"
     ]
    }
   ],
   "source": [
    "# Create model in training mode\n",
    "model = modellib.MaskRCNN(mode=\"training\", config=config,\n",
    "                          model_dir=MODEL_DIR)"
   ]
  },
  {
   "cell_type": "code",
   "execution_count": 6,
   "metadata": {
    "collapsed": true,
    "scrolled": false
   },
   "outputs": [],
   "source": [
    "# Which weights to start with?\n",
    "init_with = \"coco\"  # imagenet, coco, or last\n",
    "\n",
    "if init_with == \"imagenet\":\n",
    "    model.load_weights(model.get_imagenet_weights(), by_name=True)\n",
    "elif init_with == \"coco\":\n",
    "    # Load weights trained on MS COCO, but skip layers that\n",
    "    # are different due to the different number of classes\n",
    "    # See README for instructions to download the COCO weights\n",
    "    model.load_weights(COCO_MODEL_PATH, by_name=True,\n",
    "                       exclude=[\"mrcnn_class_logits\", \"mrcnn_bbox_fc\", \n",
    "                                \"mrcnn_bbox\", \"mrcnn_mask\"])\n",
    "elif init_with == \"last\":\n",
    "    # Load the last model you trained and continue training\n",
    "    model.load_weights(model.find_last(), by_name=True)"
   ]
  },
  {
   "cell_type": "markdown",
   "metadata": {},
   "source": [
    "## Training\n",
    "\n",
    "Train in two stages:\n",
    "1. Only the heads. Here we're freezing all the backbone layers and training only the randomly initialized layers (i.e. the ones that we didn't use pre-trained weights from MS COCO). To train only the head layers, pass `layers='heads'` to the `train()` function.\n",
    "\n",
    "2. Fine-tune all layers. For this simple example it's not necessary, but we're including it to show the process. Simply pass `layers=\"all` to train all layers."
   ]
  },
  {
   "cell_type": "code",
   "execution_count": 8,
   "metadata": {
    "scrolled": false
   },
   "outputs": [
    {
     "name": "stdout",
     "output_type": "stream",
     "text": [
      "Checkpoint Path:  /deepmatter/mask_rcnn/logs/shapes2017102802/mask_rcnn_{epoch:04d}.h5\n",
      "Starting at epoch 0. LR=0.002\n",
      "\n",
      "Selecting layers to train\n",
      "fpn_c5p5               (Conv2D)\n",
      "fpn_c4p4               (Conv2D)\n",
      "fpn_c3p3               (Conv2D)\n",
      "fpn_c2p2               (Conv2D)\n",
      "fpn_p5                 (Conv2D)\n",
      "fpn_p2                 (Conv2D)\n",
      "fpn_p3                 (Conv2D)\n",
      "fpn_p4                 (Conv2D)\n",
      "In model:  rpn_model\n",
      "    rpn_conv_shared        (Conv2D)\n",
      "    rpn_class_raw          (Conv2D)\n",
      "    rpn_bbox_pred          (Conv2D)\n",
      "mrcnn_mask_conv1       (TimeDistributed)\n",
      "mrcnn_mask_bn1         (TimeDistributed)\n",
      "mrcnn_mask_conv2       (TimeDistributed)\n",
      "mrcnn_mask_bn2         (TimeDistributed)\n",
      "mrcnn_class_conv1      (TimeDistributed)\n",
      "mrcnn_class_bn1        (TimeDistributed)\n",
      "mrcnn_mask_conv3       (TimeDistributed)\n",
      "mrcnn_mask_bn3         (TimeDistributed)\n",
      "mrcnn_class_conv2      (TimeDistributed)\n",
      "mrcnn_class_bn2        (TimeDistributed)\n",
      "mrcnn_mask_conv4       (TimeDistributed)\n",
      "mrcnn_mask_bn4         (TimeDistributed)\n",
      "mrcnn_bbox_fc          (TimeDistributed)\n",
      "mrcnn_mask_deconv      (TimeDistributed)\n",
      "mrcnn_class_logits     (TimeDistributed)\n",
      "mrcnn_mask             (TimeDistributed)\n"
     ]
    },
    {
     "name": "stderr",
     "output_type": "stream",
     "text": [
      "/usr/local/lib/python3.5/dist-packages/tensorflow/python/ops/gradients_impl.py:95: UserWarning: Converting sparse IndexedSlices to a dense Tensor of unknown shape. This may consume a large amount of memory.\n",
      "  \"Converting sparse IndexedSlices to a dense Tensor of unknown shape. \"\n",
      "/usr/local/lib/python3.5/dist-packages/keras/engine/training.py:1987: UserWarning: Using a generator with `use_multiprocessing=True` and multiple workers may duplicate your data. Please consider using the`keras.utils.Sequence class.\n",
      "  UserWarning('Using a generator with `use_multiprocessing=True`'\n"
     ]
    },
    {
     "name": "stdout",
     "output_type": "stream",
     "text": [
      "Epoch 1/1\n",
      "100/100 [==============================] - 73s - loss: 2.2164 - rpn_class_loss: 0.0242 - rpn_bbox_loss: 1.0638 - mrcnn_class_loss: 0.2426 - mrcnn_bbox_loss: 0.3006 - mrcnn_mask_loss: 0.2385 - val_loss: 1.8454 - val_rpn_class_loss: 0.0232 - val_rpn_bbox_loss: 0.9971 - val_mrcnn_class_loss: 0.1398 - val_mrcnn_bbox_loss: 0.1343 - val_mrcnn_mask_loss: 0.2042\n"
     ]
    }
   ],
   "source": [
    "# Train the head branches\n",
    "# Passing layers=\"heads\" freezes all layers except the head\n",
    "# layers. You can also pass a regular expression to select\n",
    "# which layers to train by name pattern.\n",
    "model.train(dataset_train, dataset_val, \n",
    "            learning_rate=config.LEARNING_RATE, \n",
    "            epochs=1, \n",
    "            layers='heads')"
   ]
  },
  {
   "cell_type": "code",
   "execution_count": 9,
   "metadata": {
    "scrolled": false
   },
   "outputs": [
    {
     "name": "stdout",
     "output_type": "stream",
     "text": [
      "Checkpoint Path:  /deepmatter/mask_rcnn/logs/shapes2017102802/mask_rcnn_{epoch:04d}.h5\n",
      "Starting at epoch 0. LR=0.0002\n",
      "\n",
      "Selecting layers to train\n",
      "conv1                  (Conv2D)\n",
      "bn_conv1               (BatchNorm)\n",
      "res2a_branch2a         (Conv2D)\n",
      "bn2a_branch2a          (BatchNorm)\n",
      "res2a_branch2b         (Conv2D)\n",
      "bn2a_branch2b          (BatchNorm)\n",
      "res2a_branch2c         (Conv2D)\n",
      "res2a_branch1          (Conv2D)\n",
      "bn2a_branch2c          (BatchNorm)\n",
      "bn2a_branch1           (BatchNorm)\n",
      "res2b_branch2a         (Conv2D)\n",
      "bn2b_branch2a          (BatchNorm)\n",
      "res2b_branch2b         (Conv2D)\n",
      "bn2b_branch2b          (BatchNorm)\n",
      "res2b_branch2c         (Conv2D)\n",
      "bn2b_branch2c          (BatchNorm)\n",
      "res2c_branch2a         (Conv2D)\n",
      "bn2c_branch2a          (BatchNorm)\n",
      "res2c_branch2b         (Conv2D)\n",
      "bn2c_branch2b          (BatchNorm)\n",
      "res2c_branch2c         (Conv2D)\n",
      "bn2c_branch2c          (BatchNorm)\n",
      "res3a_branch2a         (Conv2D)\n",
      "bn3a_branch2a          (BatchNorm)\n",
      "res3a_branch2b         (Conv2D)\n",
      "bn3a_branch2b          (BatchNorm)\n",
      "res3a_branch2c         (Conv2D)\n",
      "res3a_branch1          (Conv2D)\n",
      "bn3a_branch2c          (BatchNorm)\n",
      "bn3a_branch1           (BatchNorm)\n",
      "res3b_branch2a         (Conv2D)\n",
      "bn3b_branch2a          (BatchNorm)\n",
      "res3b_branch2b         (Conv2D)\n",
      "bn3b_branch2b          (BatchNorm)\n",
      "res3b_branch2c         (Conv2D)\n",
      "bn3b_branch2c          (BatchNorm)\n",
      "res3c_branch2a         (Conv2D)\n",
      "bn3c_branch2a          (BatchNorm)\n",
      "res3c_branch2b         (Conv2D)\n",
      "bn3c_branch2b          (BatchNorm)\n",
      "res3c_branch2c         (Conv2D)\n",
      "bn3c_branch2c          (BatchNorm)\n",
      "res3d_branch2a         (Conv2D)\n",
      "bn3d_branch2a          (BatchNorm)\n",
      "res3d_branch2b         (Conv2D)\n",
      "bn3d_branch2b          (BatchNorm)\n",
      "res3d_branch2c         (Conv2D)\n",
      "bn3d_branch2c          (BatchNorm)\n",
      "res4a_branch2a         (Conv2D)\n",
      "bn4a_branch2a          (BatchNorm)\n",
      "res4a_branch2b         (Conv2D)\n",
      "bn4a_branch2b          (BatchNorm)\n",
      "res4a_branch2c         (Conv2D)\n",
      "res4a_branch1          (Conv2D)\n",
      "bn4a_branch2c          (BatchNorm)\n",
      "bn4a_branch1           (BatchNorm)\n",
      "res4b_branch2a         (Conv2D)\n",
      "bn4b_branch2a          (BatchNorm)\n",
      "res4b_branch2b         (Conv2D)\n",
      "bn4b_branch2b          (BatchNorm)\n",
      "res4b_branch2c         (Conv2D)\n",
      "bn4b_branch2c          (BatchNorm)\n",
      "res4c_branch2a         (Conv2D)\n",
      "bn4c_branch2a          (BatchNorm)\n",
      "res4c_branch2b         (Conv2D)\n",
      "bn4c_branch2b          (BatchNorm)\n",
      "res4c_branch2c         (Conv2D)\n",
      "bn4c_branch2c          (BatchNorm)\n",
      "res4d_branch2a         (Conv2D)\n",
      "bn4d_branch2a          (BatchNorm)\n",
      "res4d_branch2b         (Conv2D)\n",
      "bn4d_branch2b          (BatchNorm)\n",
      "res4d_branch2c         (Conv2D)\n",
      "bn4d_branch2c          (BatchNorm)\n",
      "res4e_branch2a         (Conv2D)\n",
      "bn4e_branch2a          (BatchNorm)\n",
      "res4e_branch2b         (Conv2D)\n",
      "bn4e_branch2b          (BatchNorm)\n",
      "res4e_branch2c         (Conv2D)\n",
      "bn4e_branch2c          (BatchNorm)\n",
      "res4f_branch2a         (Conv2D)\n",
      "bn4f_branch2a          (BatchNorm)\n",
      "res4f_branch2b         (Conv2D)\n",
      "bn4f_branch2b          (BatchNorm)\n",
      "res4f_branch2c         (Conv2D)\n",
      "bn4f_branch2c          (BatchNorm)\n",
      "res4g_branch2a         (Conv2D)\n",
      "bn4g_branch2a          (BatchNorm)\n",
      "res4g_branch2b         (Conv2D)\n",
      "bn4g_branch2b          (BatchNorm)\n",
      "res4g_branch2c         (Conv2D)\n",
      "bn4g_branch2c          (BatchNorm)\n",
      "res4h_branch2a         (Conv2D)\n",
      "bn4h_branch2a          (BatchNorm)\n",
      "res4h_branch2b         (Conv2D)\n",
      "bn4h_branch2b          (BatchNorm)\n",
      "res4h_branch2c         (Conv2D)\n",
      "bn4h_branch2c          (BatchNorm)\n",
      "res4i_branch2a         (Conv2D)\n",
      "bn4i_branch2a          (BatchNorm)\n",
      "res4i_branch2b         (Conv2D)\n",
      "bn4i_branch2b          (BatchNorm)\n",
      "res4i_branch2c         (Conv2D)\n",
      "bn4i_branch2c          (BatchNorm)\n",
      "res4j_branch2a         (Conv2D)\n",
      "bn4j_branch2a          (BatchNorm)\n",
      "res4j_branch2b         (Conv2D)\n",
      "bn4j_branch2b          (BatchNorm)\n",
      "res4j_branch2c         (Conv2D)\n",
      "bn4j_branch2c          (BatchNorm)\n",
      "res4k_branch2a         (Conv2D)\n",
      "bn4k_branch2a          (BatchNorm)\n",
      "res4k_branch2b         (Conv2D)\n",
      "bn4k_branch2b          (BatchNorm)\n",
      "res4k_branch2c         (Conv2D)\n",
      "bn4k_branch2c          (BatchNorm)\n",
      "res4l_branch2a         (Conv2D)\n",
      "bn4l_branch2a          (BatchNorm)\n",
      "res4l_branch2b         (Conv2D)\n",
      "bn4l_branch2b          (BatchNorm)\n",
      "res4l_branch2c         (Conv2D)\n",
      "bn4l_branch2c          (BatchNorm)\n",
      "res4m_branch2a         (Conv2D)\n",
      "bn4m_branch2a          (BatchNorm)\n",
      "res4m_branch2b         (Conv2D)\n",
      "bn4m_branch2b          (BatchNorm)\n",
      "res4m_branch2c         (Conv2D)\n",
      "bn4m_branch2c          (BatchNorm)\n",
      "res4n_branch2a         (Conv2D)\n",
      "bn4n_branch2a          (BatchNorm)\n",
      "res4n_branch2b         (Conv2D)\n",
      "bn4n_branch2b          (BatchNorm)\n",
      "res4n_branch2c         (Conv2D)\n",
      "bn4n_branch2c          (BatchNorm)\n",
      "res4o_branch2a         (Conv2D)\n",
      "bn4o_branch2a          (BatchNorm)\n",
      "res4o_branch2b         (Conv2D)\n",
      "bn4o_branch2b          (BatchNorm)\n",
      "res4o_branch2c         (Conv2D)\n",
      "bn4o_branch2c          (BatchNorm)\n",
      "res4p_branch2a         (Conv2D)\n",
      "bn4p_branch2a          (BatchNorm)\n",
      "res4p_branch2b         (Conv2D)\n",
      "bn4p_branch2b          (BatchNorm)\n",
      "res4p_branch2c         (Conv2D)\n",
      "bn4p_branch2c          (BatchNorm)\n",
      "res4q_branch2a         (Conv2D)\n",
      "bn4q_branch2a          (BatchNorm)\n",
      "res4q_branch2b         (Conv2D)\n",
      "bn4q_branch2b          (BatchNorm)\n",
      "res4q_branch2c         (Conv2D)\n",
      "bn4q_branch2c          (BatchNorm)\n",
      "res4r_branch2a         (Conv2D)\n",
      "bn4r_branch2a          (BatchNorm)\n",
      "res4r_branch2b         (Conv2D)\n",
      "bn4r_branch2b          (BatchNorm)\n",
      "res4r_branch2c         (Conv2D)\n",
      "bn4r_branch2c          (BatchNorm)\n",
      "res4s_branch2a         (Conv2D)\n",
      "bn4s_branch2a          (BatchNorm)\n",
      "res4s_branch2b         (Conv2D)\n",
      "bn4s_branch2b          (BatchNorm)\n",
      "res4s_branch2c         (Conv2D)\n",
      "bn4s_branch2c          (BatchNorm)\n",
      "res4t_branch2a         (Conv2D)\n",
      "bn4t_branch2a          (BatchNorm)\n",
      "res4t_branch2b         (Conv2D)\n",
      "bn4t_branch2b          (BatchNorm)\n",
      "res4t_branch2c         (Conv2D)\n",
      "bn4t_branch2c          (BatchNorm)\n",
      "res4u_branch2a         (Conv2D)\n",
      "bn4u_branch2a          (BatchNorm)\n",
      "res4u_branch2b         (Conv2D)\n",
      "bn4u_branch2b          (BatchNorm)\n",
      "res4u_branch2c         (Conv2D)\n",
      "bn4u_branch2c          (BatchNorm)\n",
      "res4v_branch2a         (Conv2D)\n",
      "bn4v_branch2a          (BatchNorm)\n",
      "res4v_branch2b         (Conv2D)\n",
      "bn4v_branch2b          (BatchNorm)\n",
      "res4v_branch2c         (Conv2D)\n",
      "bn4v_branch2c          (BatchNorm)\n",
      "res4w_branch2a         (Conv2D)\n",
      "bn4w_branch2a          (BatchNorm)\n",
      "res4w_branch2b         (Conv2D)\n",
      "bn4w_branch2b          (BatchNorm)\n",
      "res4w_branch2c         (Conv2D)\n",
      "bn4w_branch2c          (BatchNorm)\n",
      "res5a_branch2a         (Conv2D)\n",
      "bn5a_branch2a          (BatchNorm)\n",
      "res5a_branch2b         (Conv2D)\n",
      "bn5a_branch2b          (BatchNorm)\n",
      "res5a_branch2c         (Conv2D)\n",
      "res5a_branch1          (Conv2D)\n",
      "bn5a_branch2c          (BatchNorm)\n",
      "bn5a_branch1           (BatchNorm)\n",
      "res5b_branch2a         (Conv2D)\n",
      "bn5b_branch2a          (BatchNorm)\n",
      "res5b_branch2b         (Conv2D)\n",
      "bn5b_branch2b          (BatchNorm)\n",
      "res5b_branch2c         (Conv2D)\n",
      "bn5b_branch2c          (BatchNorm)\n",
      "res5c_branch2a         (Conv2D)\n",
      "bn5c_branch2a          (BatchNorm)\n",
      "res5c_branch2b         (Conv2D)\n",
      "bn5c_branch2b          (BatchNorm)\n",
      "res5c_branch2c         (Conv2D)\n",
      "bn5c_branch2c          (BatchNorm)\n",
      "fpn_c5p5               (Conv2D)\n",
      "fpn_c4p4               (Conv2D)\n",
      "fpn_c3p3               (Conv2D)\n",
      "fpn_c2p2               (Conv2D)\n",
      "fpn_p5                 (Conv2D)\n",
      "fpn_p2                 (Conv2D)\n",
      "fpn_p3                 (Conv2D)\n",
      "fpn_p4                 (Conv2D)\n",
      "In model:  rpn_model\n",
      "    rpn_conv_shared        (Conv2D)\n",
      "    rpn_class_raw          (Conv2D)\n",
      "    rpn_bbox_pred          (Conv2D)\n",
      "mrcnn_mask_conv1       (TimeDistributed)\n",
      "mrcnn_mask_bn1         (TimeDistributed)\n",
      "mrcnn_mask_conv2       (TimeDistributed)\n",
      "mrcnn_mask_bn2         (TimeDistributed)\n",
      "mrcnn_class_conv1      (TimeDistributed)\n",
      "mrcnn_class_bn1        (TimeDistributed)\n",
      "mrcnn_mask_conv3       (TimeDistributed)\n",
      "mrcnn_mask_bn3         (TimeDistributed)\n",
      "mrcnn_class_conv2      (TimeDistributed)\n",
      "mrcnn_class_bn2        (TimeDistributed)\n",
      "mrcnn_mask_conv4       (TimeDistributed)\n",
      "mrcnn_mask_bn4         (TimeDistributed)\n",
      "mrcnn_bbox_fc          (TimeDistributed)\n",
      "mrcnn_mask_deconv      (TimeDistributed)\n",
      "mrcnn_class_logits     (TimeDistributed)\n",
      "mrcnn_mask             (TimeDistributed)\n"
     ]
    },
    {
     "name": "stderr",
     "output_type": "stream",
     "text": [
      "/usr/local/lib/python3.5/dist-packages/tensorflow/python/ops/gradients_impl.py:95: UserWarning: Converting sparse IndexedSlices to a dense Tensor of unknown shape. This may consume a large amount of memory.\n",
      "  \"Converting sparse IndexedSlices to a dense Tensor of unknown shape. \"\n",
      "/usr/local/lib/python3.5/dist-packages/keras/engine/training.py:1987: UserWarning: Using a generator with `use_multiprocessing=True` and multiple workers may duplicate your data. Please consider using the`keras.utils.Sequence class.\n",
      "  UserWarning('Using a generator with `use_multiprocessing=True`'\n"
     ]
    },
    {
     "name": "stdout",
     "output_type": "stream",
     "text": [
      "Epoch 1/1\n",
      "100/100 [==============================] - 86s - loss: 11.4006 - rpn_class_loss: 0.0184 - rpn_bbox_loss: 0.8409 - mrcnn_class_loss: 0.1576 - mrcnn_bbox_loss: 0.0902 - mrcnn_mask_loss: 0.1977 - val_loss: 11.4376 - val_rpn_class_loss: 0.0220 - val_rpn_bbox_loss: 1.0068 - val_mrcnn_class_loss: 0.1172 - val_mrcnn_bbox_loss: 0.0683 - val_mrcnn_mask_loss: 0.1278\n"
     ]
    }
   ],
   "source": [
    "# Fine tune all layers\n",
    "# Passing layers=\"all\" trains all layers. You can also \n",
    "# pass a regular expression to select which layers to\n",
    "# train by name pattern.\n",
    "model.train(dataset_train, dataset_val, \n",
    "            learning_rate=config.LEARNING_RATE / 10,\n",
    "            epochs=2, \n",
    "            layers=\"all\")"
   ]
  },
  {
   "cell_type": "code",
   "execution_count": 10,
   "metadata": {
    "collapsed": true
   },
   "outputs": [],
   "source": [
    "# Save weights\n",
    "# Typically not needed because callbacks save after every epoch\n",
    "# Uncomment to save manually\n",
    "# model_path = os.path.join(MODEL_DIR, \"mask_rcnn_shapes.h5\")\n",
    "# model.keras_model.save_weights(model_path)"
   ]
  },
  {
   "cell_type": "markdown",
   "metadata": {},
   "source": [
    "## Detection"
   ]
  },
  {
   "cell_type": "code",
   "execution_count": 17,
   "metadata": {
    "collapsed": true
   },
   "outputs": [
    {
     "output_type": "error",
     "ename": "AttributeError",
     "evalue": "in user code:\n\n    /home/ash/anaconda3/envs/maskrcnn/lib/python3.6/site-packages/mask_rcnn-2.1-py3.6.egg/mrcnn/model.py:390 call  *\n        roi_level = log2_graph(tf.sqrt(h * w) / (224.0 / tf.sqrt(image_area)))\n    /home/ash/anaconda3/envs/maskrcnn/lib/python3.6/site-packages/mask_rcnn-2.1-py3.6.egg/mrcnn/model.py:341 log2_graph  *\n        return tf.log(x) / tf.log(2.0)\n\n    AttributeError: module 'tensorflow' has no attribute 'log'\n",
     "traceback": [
      "\u001b[0;31m---------------------------------------------------------------------------\u001b[0m",
      "\u001b[0;31mAttributeError\u001b[0m                            Traceback (most recent call last)",
      "\u001b[0;32m<ipython-input-17-53b45c7b3d24>\u001b[0m in \u001b[0;36m<module>\u001b[0;34m\u001b[0m\n\u001b[1;32m      8\u001b[0m model = modellib.MaskRCNN(mode=\"inference\", \n\u001b[1;32m      9\u001b[0m                           \u001b[0mconfig\u001b[0m\u001b[0;34m=\u001b[0m\u001b[0minference_config\u001b[0m\u001b[0;34m,\u001b[0m\u001b[0;34m\u001b[0m\u001b[0;34m\u001b[0m\u001b[0m\n\u001b[0;32m---> 10\u001b[0;31m                           model_dir=MODEL_DIR)\n\u001b[0m\u001b[1;32m     11\u001b[0m \u001b[0;34m\u001b[0m\u001b[0m\n\u001b[1;32m     12\u001b[0m \u001b[0;31m# Get path to saved weights\u001b[0m\u001b[0;34m\u001b[0m\u001b[0;34m\u001b[0m\u001b[0;34m\u001b[0m\u001b[0m\n",
      "\u001b[0;32m~/anaconda3/envs/maskrcnn/lib/python3.6/site-packages/mask_rcnn-2.1-py3.6.egg/mrcnn/model.py\u001b[0m in \u001b[0;36m__init__\u001b[0;34m(self, mode, config, model_dir)\u001b[0m\n\u001b[1;32m   1835\u001b[0m         \u001b[0mself\u001b[0m\u001b[0;34m.\u001b[0m\u001b[0mmodel_dir\u001b[0m \u001b[0;34m=\u001b[0m \u001b[0mmodel_dir\u001b[0m\u001b[0;34m\u001b[0m\u001b[0;34m\u001b[0m\u001b[0m\n\u001b[1;32m   1836\u001b[0m         \u001b[0mself\u001b[0m\u001b[0;34m.\u001b[0m\u001b[0mset_log_dir\u001b[0m\u001b[0;34m(\u001b[0m\u001b[0;34m)\u001b[0m\u001b[0;34m\u001b[0m\u001b[0;34m\u001b[0m\u001b[0m\n\u001b[0;32m-> 1837\u001b[0;31m         \u001b[0mself\u001b[0m\u001b[0;34m.\u001b[0m\u001b[0mkeras_model\u001b[0m \u001b[0;34m=\u001b[0m \u001b[0mself\u001b[0m\u001b[0;34m.\u001b[0m\u001b[0mbuild\u001b[0m\u001b[0;34m(\u001b[0m\u001b[0mmode\u001b[0m\u001b[0;34m=\u001b[0m\u001b[0mmode\u001b[0m\u001b[0;34m,\u001b[0m \u001b[0mconfig\u001b[0m\u001b[0;34m=\u001b[0m\u001b[0mconfig\u001b[0m\u001b[0;34m)\u001b[0m\u001b[0;34m\u001b[0m\u001b[0;34m\u001b[0m\u001b[0m\n\u001b[0m\u001b[1;32m   1838\u001b[0m \u001b[0;34m\u001b[0m\u001b[0m\n\u001b[1;32m   1839\u001b[0m     \u001b[0;32mdef\u001b[0m \u001b[0mbuild\u001b[0m\u001b[0;34m(\u001b[0m\u001b[0mself\u001b[0m\u001b[0;34m,\u001b[0m \u001b[0mmode\u001b[0m\u001b[0;34m,\u001b[0m \u001b[0mconfig\u001b[0m\u001b[0;34m)\u001b[0m\u001b[0;34m:\u001b[0m\u001b[0;34m\u001b[0m\u001b[0;34m\u001b[0m\u001b[0m\n",
      "\u001b[0;32m~/anaconda3/envs/maskrcnn/lib/python3.6/site-packages/mask_rcnn-2.1-py3.6.egg/mrcnn/model.py\u001b[0m in \u001b[0;36mbuild\u001b[0;34m(self, mode, config)\u001b[0m\n\u001b[1;32m   2036\u001b[0m                                      \u001b[0mconfig\u001b[0m\u001b[0;34m.\u001b[0m\u001b[0mPOOL_SIZE\u001b[0m\u001b[0;34m,\u001b[0m \u001b[0mconfig\u001b[0m\u001b[0;34m.\u001b[0m\u001b[0mNUM_CLASSES\u001b[0m\u001b[0;34m,\u001b[0m\u001b[0;34m\u001b[0m\u001b[0;34m\u001b[0m\u001b[0m\n\u001b[1;32m   2037\u001b[0m                                      \u001b[0mtrain_bn\u001b[0m\u001b[0;34m=\u001b[0m\u001b[0mconfig\u001b[0m\u001b[0;34m.\u001b[0m\u001b[0mTRAIN_BN\u001b[0m\u001b[0;34m,\u001b[0m\u001b[0;34m\u001b[0m\u001b[0;34m\u001b[0m\u001b[0m\n\u001b[0;32m-> 2038\u001b[0;31m                                      fc_layers_size=config.FPN_CLASSIF_FC_LAYERS_SIZE)\n\u001b[0m\u001b[1;32m   2039\u001b[0m \u001b[0;34m\u001b[0m\u001b[0m\n\u001b[1;32m   2040\u001b[0m             \u001b[0;31m# Detections\u001b[0m\u001b[0;34m\u001b[0m\u001b[0;34m\u001b[0m\u001b[0;34m\u001b[0m\u001b[0m\n",
      "\u001b[0;32m~/anaconda3/envs/maskrcnn/lib/python3.6/site-packages/mask_rcnn-2.1-py3.6.egg/mrcnn/model.py\u001b[0m in \u001b[0;36mfpn_classifier_graph\u001b[0;34m(rois, feature_maps, image_meta, pool_size, num_classes, train_bn, fc_layers_size)\u001b[0m\n\u001b[1;32m    923\u001b[0m     \u001b[0;31m# Shape: [batch, num_rois, POOL_SIZE, POOL_SIZE, channels]\u001b[0m\u001b[0;34m\u001b[0m\u001b[0;34m\u001b[0m\u001b[0;34m\u001b[0m\u001b[0m\n\u001b[1;32m    924\u001b[0m     x = PyramidROIAlign([pool_size, pool_size],\n\u001b[0;32m--> 925\u001b[0;31m                         name=\"roi_align_classifier\")([rois, image_meta] + feature_maps)\n\u001b[0m\u001b[1;32m    926\u001b[0m     \u001b[0;31m# Two 1024 FC layers (implemented with Conv2D for consistency)\u001b[0m\u001b[0;34m\u001b[0m\u001b[0;34m\u001b[0m\u001b[0;34m\u001b[0m\u001b[0m\n\u001b[1;32m    927\u001b[0m     x = KL.TimeDistributed(KL.Conv2D(fc_layers_size, (pool_size, pool_size), padding=\"valid\"),\n",
      "\u001b[0;32m~/anaconda3/envs/maskrcnn/lib/python3.6/site-packages/tensorflow/python/keras/engine/base_layer.py\u001b[0m in \u001b[0;36m__call__\u001b[0;34m(self, *args, **kwargs)\u001b[0m\n\u001b[1;32m    950\u001b[0m     \u001b[0;32mif\u001b[0m \u001b[0m_in_functional_construction_mode\u001b[0m\u001b[0;34m(\u001b[0m\u001b[0mself\u001b[0m\u001b[0;34m,\u001b[0m \u001b[0minputs\u001b[0m\u001b[0;34m,\u001b[0m \u001b[0margs\u001b[0m\u001b[0;34m,\u001b[0m \u001b[0mkwargs\u001b[0m\u001b[0;34m,\u001b[0m \u001b[0minput_list\u001b[0m\u001b[0;34m)\u001b[0m\u001b[0;34m:\u001b[0m\u001b[0;34m\u001b[0m\u001b[0;34m\u001b[0m\u001b[0m\n\u001b[1;32m    951\u001b[0m       return self._functional_construction_call(inputs, args, kwargs,\n\u001b[0;32m--> 952\u001b[0;31m                                                 input_list)\n\u001b[0m\u001b[1;32m    953\u001b[0m \u001b[0;34m\u001b[0m\u001b[0m\n\u001b[1;32m    954\u001b[0m     \u001b[0;31m# Maintains info about the `Layer.call` stack.\u001b[0m\u001b[0;34m\u001b[0m\u001b[0;34m\u001b[0m\u001b[0;34m\u001b[0m\u001b[0m\n",
      "\u001b[0;32m~/anaconda3/envs/maskrcnn/lib/python3.6/site-packages/tensorflow/python/keras/engine/base_layer.py\u001b[0m in \u001b[0;36m_functional_construction_call\u001b[0;34m(self, inputs, args, kwargs, input_list)\u001b[0m\n\u001b[1;32m   1089\u001b[0m         \u001b[0;31m# Check input assumptions set after layer building, e.g. input shape.\u001b[0m\u001b[0;34m\u001b[0m\u001b[0;34m\u001b[0m\u001b[0;34m\u001b[0m\u001b[0m\n\u001b[1;32m   1090\u001b[0m         outputs = self._keras_tensor_symbolic_call(\n\u001b[0;32m-> 1091\u001b[0;31m             inputs, input_masks, args, kwargs)\n\u001b[0m\u001b[1;32m   1092\u001b[0m \u001b[0;34m\u001b[0m\u001b[0m\n\u001b[1;32m   1093\u001b[0m         \u001b[0;32mif\u001b[0m \u001b[0moutputs\u001b[0m \u001b[0;32mis\u001b[0m \u001b[0;32mNone\u001b[0m\u001b[0;34m:\u001b[0m\u001b[0;34m\u001b[0m\u001b[0;34m\u001b[0m\u001b[0m\n",
      "\u001b[0;32m~/anaconda3/envs/maskrcnn/lib/python3.6/site-packages/tensorflow/python/keras/engine/base_layer.py\u001b[0m in \u001b[0;36m_keras_tensor_symbolic_call\u001b[0;34m(self, inputs, input_masks, args, kwargs)\u001b[0m\n\u001b[1;32m    820\u001b[0m       \u001b[0;32mreturn\u001b[0m \u001b[0mnest\u001b[0m\u001b[0;34m.\u001b[0m\u001b[0mmap_structure\u001b[0m\u001b[0;34m(\u001b[0m\u001b[0mkeras_tensor\u001b[0m\u001b[0;34m.\u001b[0m\u001b[0mKerasTensor\u001b[0m\u001b[0;34m,\u001b[0m \u001b[0moutput_signature\u001b[0m\u001b[0;34m)\u001b[0m\u001b[0;34m\u001b[0m\u001b[0;34m\u001b[0m\u001b[0m\n\u001b[1;32m    821\u001b[0m     \u001b[0;32melse\u001b[0m\u001b[0;34m:\u001b[0m\u001b[0;34m\u001b[0m\u001b[0;34m\u001b[0m\u001b[0m\n\u001b[0;32m--> 822\u001b[0;31m       \u001b[0;32mreturn\u001b[0m \u001b[0mself\u001b[0m\u001b[0;34m.\u001b[0m\u001b[0m_infer_output_signature\u001b[0m\u001b[0;34m(\u001b[0m\u001b[0minputs\u001b[0m\u001b[0;34m,\u001b[0m \u001b[0margs\u001b[0m\u001b[0;34m,\u001b[0m \u001b[0mkwargs\u001b[0m\u001b[0;34m,\u001b[0m \u001b[0minput_masks\u001b[0m\u001b[0;34m)\u001b[0m\u001b[0;34m\u001b[0m\u001b[0;34m\u001b[0m\u001b[0m\n\u001b[0m\u001b[1;32m    823\u001b[0m \u001b[0;34m\u001b[0m\u001b[0m\n\u001b[1;32m    824\u001b[0m   \u001b[0;32mdef\u001b[0m \u001b[0m_infer_output_signature\u001b[0m\u001b[0;34m(\u001b[0m\u001b[0mself\u001b[0m\u001b[0;34m,\u001b[0m \u001b[0minputs\u001b[0m\u001b[0;34m,\u001b[0m \u001b[0margs\u001b[0m\u001b[0;34m,\u001b[0m \u001b[0mkwargs\u001b[0m\u001b[0;34m,\u001b[0m \u001b[0minput_masks\u001b[0m\u001b[0;34m)\u001b[0m\u001b[0;34m:\u001b[0m\u001b[0;34m\u001b[0m\u001b[0;34m\u001b[0m\u001b[0m\n",
      "\u001b[0;32m~/anaconda3/envs/maskrcnn/lib/python3.6/site-packages/tensorflow/python/keras/engine/base_layer.py\u001b[0m in \u001b[0;36m_infer_output_signature\u001b[0;34m(self, inputs, args, kwargs, input_masks)\u001b[0m\n\u001b[1;32m    861\u001b[0m           \u001b[0;31m# TODO(kaftan): do we maybe_build here, or have we already done it?\u001b[0m\u001b[0;34m\u001b[0m\u001b[0;34m\u001b[0m\u001b[0;34m\u001b[0m\u001b[0m\n\u001b[1;32m    862\u001b[0m           \u001b[0mself\u001b[0m\u001b[0;34m.\u001b[0m\u001b[0m_maybe_build\u001b[0m\u001b[0;34m(\u001b[0m\u001b[0minputs\u001b[0m\u001b[0;34m)\u001b[0m\u001b[0;34m\u001b[0m\u001b[0;34m\u001b[0m\u001b[0m\n\u001b[0;32m--> 863\u001b[0;31m           \u001b[0moutputs\u001b[0m \u001b[0;34m=\u001b[0m \u001b[0mcall_fn\u001b[0m\u001b[0;34m(\u001b[0m\u001b[0minputs\u001b[0m\u001b[0;34m,\u001b[0m \u001b[0;34m*\u001b[0m\u001b[0margs\u001b[0m\u001b[0;34m,\u001b[0m \u001b[0;34m**\u001b[0m\u001b[0mkwargs\u001b[0m\u001b[0;34m)\u001b[0m\u001b[0;34m\u001b[0m\u001b[0;34m\u001b[0m\u001b[0m\n\u001b[0m\u001b[1;32m    864\u001b[0m \u001b[0;34m\u001b[0m\u001b[0m\n\u001b[1;32m    865\u001b[0m         \u001b[0mself\u001b[0m\u001b[0;34m.\u001b[0m\u001b[0m_handle_activity_regularization\u001b[0m\u001b[0;34m(\u001b[0m\u001b[0minputs\u001b[0m\u001b[0;34m,\u001b[0m \u001b[0moutputs\u001b[0m\u001b[0;34m)\u001b[0m\u001b[0;34m\u001b[0m\u001b[0;34m\u001b[0m\u001b[0m\n",
      "\u001b[0;32m~/anaconda3/envs/maskrcnn/lib/python3.6/site-packages/tensorflow/python/autograph/impl/api.py\u001b[0m in \u001b[0;36mwrapper\u001b[0;34m(*args, **kwargs)\u001b[0m\n\u001b[1;32m    668\u001b[0m       \u001b[0;32mexcept\u001b[0m \u001b[0mException\u001b[0m \u001b[0;32mas\u001b[0m \u001b[0me\u001b[0m\u001b[0;34m:\u001b[0m  \u001b[0;31m# pylint:disable=broad-except\u001b[0m\u001b[0;34m\u001b[0m\u001b[0;34m\u001b[0m\u001b[0m\n\u001b[1;32m    669\u001b[0m         \u001b[0;32mif\u001b[0m \u001b[0mhasattr\u001b[0m\u001b[0;34m(\u001b[0m\u001b[0me\u001b[0m\u001b[0;34m,\u001b[0m \u001b[0;34m'ag_error_metadata'\u001b[0m\u001b[0;34m)\u001b[0m\u001b[0;34m:\u001b[0m\u001b[0;34m\u001b[0m\u001b[0;34m\u001b[0m\u001b[0m\n\u001b[0;32m--> 670\u001b[0;31m           \u001b[0;32mraise\u001b[0m \u001b[0me\u001b[0m\u001b[0;34m.\u001b[0m\u001b[0mag_error_metadata\u001b[0m\u001b[0;34m.\u001b[0m\u001b[0mto_exception\u001b[0m\u001b[0;34m(\u001b[0m\u001b[0me\u001b[0m\u001b[0;34m)\u001b[0m\u001b[0;34m\u001b[0m\u001b[0;34m\u001b[0m\u001b[0m\n\u001b[0m\u001b[1;32m    671\u001b[0m         \u001b[0;32melse\u001b[0m\u001b[0;34m:\u001b[0m\u001b[0;34m\u001b[0m\u001b[0;34m\u001b[0m\u001b[0m\n\u001b[1;32m    672\u001b[0m           \u001b[0;32mraise\u001b[0m\u001b[0;34m\u001b[0m\u001b[0;34m\u001b[0m\u001b[0m\n",
      "\u001b[0;31mAttributeError\u001b[0m: in user code:\n\n    /home/ash/anaconda3/envs/maskrcnn/lib/python3.6/site-packages/mask_rcnn-2.1-py3.6.egg/mrcnn/model.py:390 call  *\n        roi_level = log2_graph(tf.sqrt(h * w) / (224.0 / tf.sqrt(image_area)))\n    /home/ash/anaconda3/envs/maskrcnn/lib/python3.6/site-packages/mask_rcnn-2.1-py3.6.egg/mrcnn/model.py:341 log2_graph  *\n        return tf.log(x) / tf.log(2.0)\n\n    AttributeError: module 'tensorflow' has no attribute 'log'\n"
     ]
    }
   ],
   "source": [
    "class InferenceConfig(ShapesConfig):\n",
    "    GPU_COUNT = 1\n",
    "    IMAGES_PER_GPU = 1\n",
    "\n",
    "inference_config = InferenceConfig()\n",
    "\n",
    "# Recreate the model in inference mode\n",
    "model = modellib.MaskRCNN(mode=\"inference\", \n",
    "                          config=inference_config,\n",
    "                          model_dir=MODEL_DIR)\n",
    "\n",
    "# Get path to saved weights\n",
    "# Either set a specific path or find last trained weights\n",
    "# model_path = os.path.join(ROOT_DIR, \".h5 file name here\")\n",
    "model_path = model.find_last()\n",
    "\n",
    "# Load trained weights\n",
    "print(\"Loading weights from \", model_path)\n",
    "model.load_weights(model_path, by_name=True)"
   ]
  },
  {
   "cell_type": "code",
   "execution_count": 16,
   "metadata": {},
   "outputs": [
    {
     "output_type": "stream",
     "name": "stdout",
     "text": [
      "original_image           shape: (128, 128, 3)         min:   23.00000  max:  220.00000  uint8\nimage_meta               shape: (16,)                 min:    0.00000  max:  128.00000  int64\ngt_class_id              shape: (3,)                  min:    2.00000  max:    3.00000  int32\ngt_bbox                  shape: (3, 4)                min:    5.00000  max:  127.00000  int32\ngt_mask                  shape: (128, 128, 3)         min:    0.00000  max:    1.00000  bool\n"
     ]
    },
    {
     "output_type": "display_data",
     "data": {
      "text/plain": "<Figure size 576x576 with 1 Axes>",
      "image/svg+xml": "<?xml version=\"1.0\" encoding=\"utf-8\" standalone=\"no\"?>\n<!DOCTYPE svg PUBLIC \"-//W3C//DTD SVG 1.1//EN\"\n  \"http://www.w3.org/Graphics/SVG/1.1/DTD/svg11.dtd\">\n<!-- Created with matplotlib (https://matplotlib.org/) -->\n<svg height=\"449.28pt\" version=\"1.1\" viewBox=\"0 0 449.28 449.28\" width=\"449.28pt\" xmlns=\"http://www.w3.org/2000/svg\" xmlns:xlink=\"http://www.w3.org/1999/xlink\">\n <defs>\n  <style type=\"text/css\">\n*{stroke-linecap:butt;stroke-linejoin:round;}\n  </style>\n </defs>\n <g id=\"figure_1\">\n  <g id=\"patch_1\">\n   <path d=\"M 0 449.28 \nL 449.28 449.28 \nL 449.28 0 \nL 0 0 \nz\n\" style=\"fill:none;\"/>\n  </g>\n  <g id=\"axes_1\">\n   <g clip-path=\"url(#p9b199d53c0)\">\n    <image height=\"377\" id=\"image75c8d2d7f5\" transform=\"scale(1 -1)translate(0 -377)\" width=\"377\" x=\"35.114595\" xlink:href=\"data:image/png;base64,\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\" y=\"-34.227027\"/>\n   </g>\n   <g id=\"patch_2\">\n    <path clip-path=\"url(#p9b199d53c0)\" d=\"M 198.194595 168.810811 \nL 409.757838 168.810811 \nL 409.757838 353.928649 \nL 198.194595 353.928649 \nz\n\" style=\"fill:none;opacity:0.7;stroke:#00ff00;stroke-dasharray:7.4,3.2;stroke-dashoffset:0;stroke-linejoin:miter;stroke-width:2;\"/>\n   </g>\n   <g id=\"patch_3\">\n    <path clip-path=\"url(#p9b199d53c0)\" d=\"M 406.819459 352.459459 \nL 403.881081 352.459459 \nL 400.942703 352.459459 \nL 398.004324 352.459459 \nL 395.065946 352.459459 \nL 392.127568 352.459459 \nL 389.189189 352.459459 \nL 386.250811 352.459459 \nL 383.312432 352.459459 \nL 380.374054 352.459459 \nL 377.435676 352.459459 \nL 374.497297 352.459459 \nL 371.558919 352.459459 \nL 368.620541 352.459459 \nL 365.682162 352.459459 \nL 362.743784 352.459459 \nL 359.805405 352.459459 \nL 356.867027 352.459459 \nL 353.928649 352.459459 \nL 350.99027 352.459459 \nL 348.051892 352.459459 \nL 345.113514 352.459459 \nL 342.175135 352.459459 \nL 339.236757 352.459459 \nL 336.298378 352.459459 \nL 333.36 352.459459 \nL 330.421622 352.459459 \nL 327.483243 352.459459 \nL 324.544865 352.459459 \nL 321.606486 352.459459 \nL 318.668108 352.459459 \nL 315.72973 352.459459 \nL 312.791351 352.459459 \nL 309.852973 352.459459 \nL 306.914595 352.459459 \nL 303.976216 352.459459 \nL 301.037838 352.459459 \nL 298.099459 352.459459 \nL 295.161081 352.459459 \nL 292.222703 352.459459 \nL 289.284324 352.459459 \nL 286.345946 352.459459 \nL 283.407568 352.459459 \nL 280.469189 352.459459 \nL 277.530811 352.459459 \nL 274.592432 352.459459 \nL 271.654054 352.459459 \nL 268.715676 352.459459 \nL 265.777297 352.459459 \nL 262.838919 352.459459 \nL 259.900541 352.459459 \nL 256.962162 352.459459 \nL 254.023784 352.459459 \nL 251.085405 352.459459 \nL 248.147027 352.459459 \nL 245.208649 352.459459 \nL 242.27027 352.459459 \nL 239.331892 352.459459 \nL 236.393514 352.459459 \nL 233.455135 352.459459 \nL 230.516757 352.459459 \nL 227.578378 352.459459 \nL 224.64 352.459459 \nL 221.701622 352.459459 \nL 218.763243 352.459459 \nL 215.824865 352.459459 \nL 212.886486 352.459459 \nL 209.948108 352.459459 \nL 207.00973 352.459459 \nL 204.071351 352.459459 \nL 201.132973 352.459459 \nL 198.194595 352.459459 \nL 196.725405 350.99027 \nL 198.194595 349.521081 \nL 199.663784 348.051892 \nL 199.663784 345.113514 \nL 201.132973 343.644324 \nL 202.602162 342.175135 \nL 202.602162 339.236757 \nL 204.071351 337.767568 \nL 205.540541 336.298378 \nL 205.540541 333.36 \nL 207.00973 331.890811 \nL 208.478919 333.36 \nL 209.948108 334.829189 \nL 211.417297 333.36 \nL 212.886486 331.890811 \nL 215.824865 331.890811 \nL 218.763243 331.890811 \nL 221.701622 331.890811 \nL 224.64 331.890811 \nL 227.578378 331.890811 \nL 230.516757 331.890811 \nL 231.985946 330.421622 \nL 233.455135 328.952432 \nL 236.393514 328.952432 \nL 239.331892 328.952432 \nL 242.27027 328.952432 \nL 243.739459 327.483243 \nL 245.208649 326.014054 \nL 248.147027 326.014054 \nL 249.616216 324.544865 \nL 251.085405 323.075676 \nL 254.023784 323.075676 \nL 255.492973 321.606486 \nL 256.962162 320.137297 \nL 259.900541 320.137297 \nL 261.36973 318.668108 \nL 262.838919 317.198919 \nL 264.308108 315.72973 \nL 265.777297 314.260541 \nL 267.246486 312.791351 \nL 268.715676 311.322162 \nL 271.654054 311.322162 \nL 273.123243 309.852973 \nL 274.592432 308.383784 \nL 276.061622 306.914595 \nL 277.530811 305.445405 \nL 279 303.976216 \nL 280.469189 302.507027 \nL 281.938378 301.037838 \nL 281.938378 298.099459 \nL 283.407568 296.63027 \nL 284.876757 295.161081 \nL 286.345946 293.691892 \nL 287.815135 292.222703 \nL 289.284324 290.753514 \nL 290.753514 289.284324 \nL 290.753514 286.345946 \nL 292.222703 284.876757 \nL 293.691892 283.407568 \nL 293.691892 280.469189 \nL 295.161081 279 \nL 296.63027 277.530811 \nL 296.63027 274.592432 \nL 298.099459 273.123243 \nL 299.568649 271.654054 \nL 299.568649 268.715676 \nL 299.568649 265.777297 \nL 299.568649 262.838919 \nL 301.037838 261.36973 \nL 302.507027 259.900541 \nL 302.507027 256.962162 \nL 302.507027 254.023784 \nL 302.507027 251.085405 \nL 302.507027 248.147027 \nL 302.507027 245.208649 \nL 302.507027 242.27027 \nL 303.976216 240.801081 \nL 305.445405 239.331892 \nL 303.976216 237.862703 \nL 302.507027 236.393514 \nL 302.507027 233.455135 \nL 302.507027 230.516757 \nL 302.507027 227.578378 \nL 302.507027 224.64 \nL 302.507027 221.701622 \nL 302.507027 218.763243 \nL 301.037838 217.294054 \nL 299.568649 215.824865 \nL 299.568649 212.886486 \nL 299.568649 209.948108 \nL 299.568649 207.00973 \nL 298.099459 205.540541 \nL 296.63027 204.071351 \nL 296.63027 201.132973 \nL 298.099459 199.663784 \nL 301.037838 199.663784 \nL 303.976216 199.663784 \nL 305.445405 198.194595 \nL 303.976216 196.725405 \nL 302.507027 195.256216 \nL 302.507027 192.317838 \nL 301.037838 190.848649 \nL 299.568649 189.379459 \nL 299.568649 186.441081 \nL 298.099459 184.971892 \nL 296.63027 183.502703 \nL 296.63027 180.564324 \nL 296.63027 177.625946 \nL 298.099459 176.156757 \nL 299.568649 174.687568 \nL 299.568649 171.749189 \nL 301.037838 170.28 \nL 302.507027 168.810811 \nL 303.976216 167.341622 \nL 305.445405 168.810811 \nL 306.914595 170.28 \nL 308.383784 171.749189 \nL 308.383784 174.687568 \nL 309.852973 176.156757 \nL 311.322162 177.625946 \nL 311.322162 180.564324 \nL 312.791351 182.033514 \nL 314.260541 183.502703 \nL 314.260541 186.441081 \nL 315.72973 187.91027 \nL 317.198919 189.379459 \nL 318.668108 190.848649 \nL 320.137297 192.317838 \nL 320.137297 195.256216 \nL 321.606486 196.725405 \nL 323.075676 198.194595 \nL 323.075676 201.132973 \nL 324.544865 202.602162 \nL 326.014054 204.071351 \nL 326.014054 207.00973 \nL 327.483243 208.478919 \nL 328.952432 209.948108 \nL 328.952432 212.886486 \nL 330.421622 214.355676 \nL 331.890811 215.824865 \nL 333.36 217.294054 \nL 334.829189 218.763243 \nL 334.829189 221.701622 \nL 336.298378 223.170811 \nL 337.767568 224.64 \nL 337.767568 227.578378 \nL 339.236757 229.047568 \nL 340.705946 230.516757 \nL 340.705946 233.455135 \nL 342.175135 234.924324 \nL 343.644324 236.393514 \nL 345.113514 237.862703 \nL 346.582703 239.331892 \nL 346.582703 242.27027 \nL 348.051892 243.739459 \nL 349.521081 245.208649 \nL 349.521081 248.147027 \nL 350.99027 249.616216 \nL 352.459459 251.085405 \nL 352.459459 254.023784 \nL 353.928649 255.492973 \nL 355.397838 256.962162 \nL 355.397838 259.900541 \nL 356.867027 261.36973 \nL 358.336216 262.838919 \nL 359.805405 264.308108 \nL 361.274595 265.777297 \nL 361.274595 268.715676 \nL 362.743784 270.184865 \nL 364.212973 271.654054 \nL 364.212973 274.592432 \nL 365.682162 276.061622 \nL 367.151351 277.530811 \nL 367.151351 280.469189 \nL 368.620541 281.938378 \nL 370.08973 283.407568 \nL 371.558919 284.876757 \nL 373.028108 286.345946 \nL 373.028108 289.284324 \nL 374.497297 290.753514 \nL 375.966486 292.222703 \nL 375.966486 295.161081 \nL 377.435676 296.63027 \nL 378.904865 298.099459 \nL 378.904865 301.037838 \nL 380.374054 302.507027 \nL 381.843243 303.976216 \nL 383.312432 305.445405 \nL 384.781622 306.914595 \nL 384.781622 309.852973 \nL 386.250811 311.322162 \nL 387.72 312.791351 \nL 387.72 315.72973 \nL 389.189189 317.198919 \nL 390.658378 318.668108 \nL 390.658378 321.606486 \nL 392.127568 323.075676 \nL 393.596757 324.544865 \nL 393.596757 327.483243 \nL 395.065946 328.952432 \nL 396.535135 330.421622 \nL 398.004324 331.890811 \nL 399.473514 333.36 \nL 399.473514 336.298378 \nL 400.942703 337.767568 \nL 402.411892 339.236757 \nL 402.411892 342.175135 \nL 403.881081 343.644324 \nL 405.35027 345.113514 \nL 405.35027 348.051892 \nL 406.819459 349.521081 \nL 408.288649 350.99027 \nz\n\" style=\"fill:none;stroke:#00ff00;stroke-linejoin:miter;\"/>\n   </g>\n   <g id=\"patch_4\">\n    <path clip-path=\"url(#p9b199d53c0)\" d=\"M 115.92 168.810811 \nL 306.914595 168.810811 \nL 306.914595 336.298378 \nL 115.92 336.298378 \nz\n\" style=\"fill:none;opacity:0.7;stroke:#0000ff;stroke-dasharray:7.4,3.2;stroke-dashoffset:0;stroke-linejoin:miter;stroke-width:2;\"/>\n   </g>\n   <g id=\"patch_5\">\n    <path clip-path=\"url(#p9b199d53c0)\" d=\"M 209.948108 334.829189 \nL 208.478919 333.36 \nL 207.00973 331.890811 \nL 204.071351 331.890811 \nL 201.132973 331.890811 \nL 198.194595 331.890811 \nL 195.256216 331.890811 \nL 192.317838 331.890811 \nL 189.379459 331.890811 \nL 187.91027 330.421622 \nL 186.441081 328.952432 \nL 183.502703 328.952432 \nL 180.564324 328.952432 \nL 177.625946 328.952432 \nL 176.156757 327.483243 \nL 174.687568 326.014054 \nL 171.749189 326.014054 \nL 170.28 324.544865 \nL 168.810811 323.075676 \nL 165.872432 323.075676 \nL 164.403243 321.606486 \nL 162.934054 320.137297 \nL 159.995676 320.137297 \nL 158.526486 318.668108 \nL 157.057297 317.198919 \nL 155.588108 315.72973 \nL 154.118919 314.260541 \nL 152.64973 312.791351 \nL 151.180541 311.322162 \nL 148.242162 311.322162 \nL 146.772973 309.852973 \nL 145.303784 308.383784 \nL 143.834595 306.914595 \nL 142.365405 305.445405 \nL 140.896216 303.976216 \nL 139.427027 302.507027 \nL 137.957838 301.037838 \nL 137.957838 298.099459 \nL 136.488649 296.63027 \nL 135.019459 295.161081 \nL 133.55027 293.691892 \nL 132.081081 292.222703 \nL 130.611892 290.753514 \nL 129.142703 289.284324 \nL 129.142703 286.345946 \nL 127.673514 284.876757 \nL 126.204324 283.407568 \nL 126.204324 280.469189 \nL 124.735135 279 \nL 123.265946 277.530811 \nL 123.265946 274.592432 \nL 121.796757 273.123243 \nL 120.327568 271.654054 \nL 120.327568 268.715676 \nL 120.327568 265.777297 \nL 120.327568 262.838919 \nL 118.858378 261.36973 \nL 117.389189 259.900541 \nL 117.389189 256.962162 \nL 117.389189 254.023784 \nL 117.389189 251.085405 \nL 117.389189 248.147027 \nL 117.389189 245.208649 \nL 117.389189 242.27027 \nL 115.92 240.801081 \nL 114.450811 239.331892 \nL 115.92 237.862703 \nL 117.389189 236.393514 \nL 117.389189 233.455135 \nL 117.389189 230.516757 \nL 117.389189 227.578378 \nL 117.389189 224.64 \nL 117.389189 221.701622 \nL 117.389189 218.763243 \nL 118.858378 217.294054 \nL 120.327568 215.824865 \nL 120.327568 212.886486 \nL 120.327568 209.948108 \nL 120.327568 207.00973 \nL 121.796757 205.540541 \nL 123.265946 204.071351 \nL 123.265946 201.132973 \nL 124.735135 199.663784 \nL 126.204324 198.194595 \nL 126.204324 195.256216 \nL 127.673514 193.787027 \nL 129.142703 192.317838 \nL 129.142703 189.379459 \nL 130.611892 187.91027 \nL 132.081081 186.441081 \nL 133.55027 184.971892 \nL 135.019459 183.502703 \nL 136.488649 182.033514 \nL 137.957838 180.564324 \nL 137.957838 177.625946 \nL 139.427027 176.156757 \nL 140.896216 174.687568 \nL 142.365405 173.218378 \nL 143.834595 171.749189 \nL 145.303784 170.28 \nL 146.772973 168.810811 \nL 148.242162 167.341622 \nL 151.180541 167.341622 \nL 152.64973 168.810811 \nL 151.180541 170.28 \nL 149.711351 171.749189 \nL 149.711351 174.687568 \nL 148.242162 176.156757 \nL 146.772973 177.625946 \nL 145.303784 179.095135 \nL 143.834595 180.564324 \nL 143.834595 183.502703 \nL 142.365405 184.971892 \nL 140.896216 186.441081 \nL 140.896216 189.379459 \nL 139.427027 190.848649 \nL 137.957838 192.317838 \nL 137.957838 195.256216 \nL 136.488649 196.725405 \nL 135.019459 198.194595 \nL 136.488649 199.663784 \nL 139.427027 199.663784 \nL 142.365405 199.663784 \nL 145.303784 199.663784 \nL 148.242162 199.663784 \nL 151.180541 199.663784 \nL 154.118919 199.663784 \nL 157.057297 199.663784 \nL 159.995676 199.663784 \nL 162.934054 199.663784 \nL 165.872432 199.663784 \nL 168.810811 199.663784 \nL 171.749189 199.663784 \nL 174.687568 199.663784 \nL 177.625946 199.663784 \nL 180.564324 199.663784 \nL 183.502703 199.663784 \nL 186.441081 199.663784 \nL 189.379459 199.663784 \nL 192.317838 199.663784 \nL 195.256216 199.663784 \nL 198.194595 199.663784 \nL 201.132973 199.663784 \nL 204.071351 199.663784 \nL 207.00973 199.663784 \nL 209.948108 199.663784 \nL 212.886486 199.663784 \nL 215.824865 199.663784 \nL 218.763243 199.663784 \nL 221.701622 199.663784 \nL 224.64 199.663784 \nL 227.578378 199.663784 \nL 230.516757 199.663784 \nL 233.455135 199.663784 \nL 236.393514 199.663784 \nL 239.331892 199.663784 \nL 242.27027 199.663784 \nL 245.208649 199.663784 \nL 248.147027 199.663784 \nL 251.085405 199.663784 \nL 254.023784 199.663784 \nL 256.962162 199.663784 \nL 259.900541 199.663784 \nL 262.838919 199.663784 \nL 265.777297 199.663784 \nL 268.715676 199.663784 \nL 271.654054 199.663784 \nL 274.592432 199.663784 \nL 277.530811 199.663784 \nL 280.469189 199.663784 \nL 283.407568 199.663784 \nL 286.345946 199.663784 \nL 289.284324 199.663784 \nL 292.222703 199.663784 \nL 295.161081 199.663784 \nL 296.63027 201.132973 \nL 296.63027 204.071351 \nL 298.099459 205.540541 \nL 299.568649 207.00973 \nL 299.568649 209.948108 \nL 299.568649 212.886486 \nL 299.568649 215.824865 \nL 301.037838 217.294054 \nL 302.507027 218.763243 \nL 302.507027 221.701622 \nL 302.507027 224.64 \nL 302.507027 227.578378 \nL 302.507027 230.516757 \nL 302.507027 233.455135 \nL 302.507027 236.393514 \nL 303.976216 237.862703 \nL 305.445405 239.331892 \nL 303.976216 240.801081 \nL 302.507027 242.27027 \nL 302.507027 245.208649 \nL 302.507027 248.147027 \nL 302.507027 251.085405 \nL 302.507027 254.023784 \nL 302.507027 256.962162 \nL 302.507027 259.900541 \nL 301.037838 261.36973 \nL 299.568649 262.838919 \nL 299.568649 265.777297 \nL 299.568649 268.715676 \nL 299.568649 271.654054 \nL 298.099459 273.123243 \nL 296.63027 274.592432 \nL 296.63027 277.530811 \nL 295.161081 279 \nL 293.691892 280.469189 \nL 293.691892 283.407568 \nL 292.222703 284.876757 \nL 290.753514 286.345946 \nL 290.753514 289.284324 \nL 289.284324 290.753514 \nL 287.815135 292.222703 \nL 286.345946 293.691892 \nL 284.876757 295.161081 \nL 283.407568 296.63027 \nL 281.938378 298.099459 \nL 281.938378 301.037838 \nL 280.469189 302.507027 \nL 279 303.976216 \nL 277.530811 305.445405 \nL 276.061622 306.914595 \nL 274.592432 308.383784 \nL 273.123243 309.852973 \nL 271.654054 311.322162 \nL 268.715676 311.322162 \nL 267.246486 312.791351 \nL 265.777297 314.260541 \nL 264.308108 315.72973 \nL 262.838919 317.198919 \nL 261.36973 318.668108 \nL 259.900541 320.137297 \nL 256.962162 320.137297 \nL 255.492973 321.606486 \nL 254.023784 323.075676 \nL 251.085405 323.075676 \nL 249.616216 324.544865 \nL 248.147027 326.014054 \nL 245.208649 326.014054 \nL 243.739459 327.483243 \nL 242.27027 328.952432 \nL 239.331892 328.952432 \nL 236.393514 328.952432 \nL 233.455135 328.952432 \nL 231.985946 330.421622 \nL 230.516757 331.890811 \nL 227.578378 331.890811 \nL 224.64 331.890811 \nL 221.701622 331.890811 \nL 218.763243 331.890811 \nL 215.824865 331.890811 \nL 212.886486 331.890811 \nL 211.417297 333.36 \nz\n\" style=\"fill:none;stroke:#0000ff;stroke-linejoin:miter;\"/>\n   </g>\n   <g id=\"patch_6\">\n    <path clip-path=\"url(#p9b199d53c0)\" d=\"M 136.488649 51.275676 \nL 306.914595 51.275676 \nL 306.914595 201.132973 \nL 136.488649 201.132973 \nz\n\" style=\"fill:none;opacity:0.7;stroke:#ff0000;stroke-dasharray:7.4,3.2;stroke-dashoffset:0;stroke-linejoin:miter;stroke-width:2;\"/>\n   </g>\n   <g id=\"patch_7\">\n    <path clip-path=\"url(#p9b199d53c0)\" d=\"M 303.976216 199.663784 \nL 301.037838 199.663784 \nL 298.099459 199.663784 \nL 295.161081 199.663784 \nL 292.222703 199.663784 \nL 289.284324 199.663784 \nL 286.345946 199.663784 \nL 283.407568 199.663784 \nL 280.469189 199.663784 \nL 277.530811 199.663784 \nL 274.592432 199.663784 \nL 271.654054 199.663784 \nL 268.715676 199.663784 \nL 265.777297 199.663784 \nL 262.838919 199.663784 \nL 259.900541 199.663784 \nL 256.962162 199.663784 \nL 254.023784 199.663784 \nL 251.085405 199.663784 \nL 248.147027 199.663784 \nL 245.208649 199.663784 \nL 242.27027 199.663784 \nL 239.331892 199.663784 \nL 236.393514 199.663784 \nL 233.455135 199.663784 \nL 230.516757 199.663784 \nL 227.578378 199.663784 \nL 224.64 199.663784 \nL 221.701622 199.663784 \nL 218.763243 199.663784 \nL 215.824865 199.663784 \nL 212.886486 199.663784 \nL 209.948108 199.663784 \nL 207.00973 199.663784 \nL 204.071351 199.663784 \nL 201.132973 199.663784 \nL 198.194595 199.663784 \nL 195.256216 199.663784 \nL 192.317838 199.663784 \nL 189.379459 199.663784 \nL 186.441081 199.663784 \nL 183.502703 199.663784 \nL 180.564324 199.663784 \nL 177.625946 199.663784 \nL 174.687568 199.663784 \nL 171.749189 199.663784 \nL 168.810811 199.663784 \nL 165.872432 199.663784 \nL 162.934054 199.663784 \nL 159.995676 199.663784 \nL 157.057297 199.663784 \nL 154.118919 199.663784 \nL 151.180541 199.663784 \nL 148.242162 199.663784 \nL 145.303784 199.663784 \nL 142.365405 199.663784 \nL 139.427027 199.663784 \nL 136.488649 199.663784 \nL 135.019459 198.194595 \nL 136.488649 196.725405 \nL 137.957838 195.256216 \nL 137.957838 192.317838 \nL 139.427027 190.848649 \nL 140.896216 189.379459 \nL 140.896216 186.441081 \nL 142.365405 184.971892 \nL 143.834595 183.502703 \nL 143.834595 180.564324 \nL 145.303784 179.095135 \nL 146.772973 177.625946 \nL 148.242162 176.156757 \nL 149.711351 174.687568 \nL 149.711351 171.749189 \nL 151.180541 170.28 \nL 152.64973 168.810811 \nL 152.64973 165.872432 \nL 154.118919 164.403243 \nL 155.588108 162.934054 \nL 157.057297 161.464865 \nL 158.526486 159.995676 \nL 158.526486 157.057297 \nL 159.995676 155.588108 \nL 161.464865 154.118919 \nL 161.464865 151.180541 \nL 162.934054 149.711351 \nL 164.403243 148.242162 \nL 164.403243 145.303784 \nL 165.872432 143.834595 \nL 167.341622 142.365405 \nL 168.810811 140.896216 \nL 170.28 139.427027 \nL 170.28 136.488649 \nL 171.749189 135.019459 \nL 173.218378 133.55027 \nL 173.218378 130.611892 \nL 174.687568 129.142703 \nL 176.156757 127.673514 \nL 176.156757 124.735135 \nL 177.625946 123.265946 \nL 179.095135 121.796757 \nL 180.564324 120.327568 \nL 182.033514 118.858378 \nL 182.033514 115.92 \nL 183.502703 114.450811 \nL 184.971892 112.981622 \nL 184.971892 110.043243 \nL 186.441081 108.574054 \nL 187.91027 107.104865 \nL 189.379459 105.635676 \nL 190.848649 104.166486 \nL 190.848649 101.228108 \nL 192.317838 99.758919 \nL 193.787027 98.28973 \nL 193.787027 95.351351 \nL 195.256216 93.882162 \nL 196.725405 92.412973 \nL 196.725405 89.474595 \nL 198.194595 88.005405 \nL 199.663784 86.536216 \nL 201.132973 85.067027 \nL 202.602162 83.597838 \nL 202.602162 80.659459 \nL 204.071351 79.19027 \nL 205.540541 77.721081 \nL 205.540541 74.782703 \nL 207.00973 73.313514 \nL 208.478919 71.844324 \nL 209.948108 70.375135 \nL 211.417297 68.905946 \nL 211.417297 65.967568 \nL 212.886486 64.498378 \nL 214.355676 63.029189 \nL 214.355676 60.090811 \nL 215.824865 58.621622 \nL 217.294054 57.152432 \nL 217.294054 54.214054 \nL 218.763243 52.744865 \nL 220.232432 51.275676 \nL 221.701622 49.806486 \nL 223.170811 51.275676 \nL 224.64 52.744865 \nL 226.109189 54.214054 \nL 226.109189 57.152432 \nL 227.578378 58.621622 \nL 229.047568 60.090811 \nL 229.047568 63.029189 \nL 230.516757 64.498378 \nL 231.985946 65.967568 \nL 231.985946 68.905946 \nL 233.455135 70.375135 \nL 234.924324 71.844324 \nL 234.924324 74.782703 \nL 236.393514 76.251892 \nL 237.862703 77.721081 \nL 239.331892 79.19027 \nL 240.801081 80.659459 \nL 240.801081 83.597838 \nL 242.27027 85.067027 \nL 243.739459 86.536216 \nL 243.739459 89.474595 \nL 245.208649 90.943784 \nL 246.677838 92.412973 \nL 246.677838 95.351351 \nL 248.147027 96.820541 \nL 249.616216 98.28973 \nL 251.085405 99.758919 \nL 252.554595 101.228108 \nL 252.554595 104.166486 \nL 254.023784 105.635676 \nL 255.492973 107.104865 \nL 255.492973 110.043243 \nL 256.962162 111.512432 \nL 258.431351 112.981622 \nL 258.431351 115.92 \nL 259.900541 117.389189 \nL 261.36973 118.858378 \nL 261.36973 121.796757 \nL 262.838919 123.265946 \nL 264.308108 124.735135 \nL 265.777297 126.204324 \nL 267.246486 127.673514 \nL 267.246486 130.611892 \nL 268.715676 132.081081 \nL 270.184865 133.55027 \nL 270.184865 136.488649 \nL 271.654054 137.957838 \nL 273.123243 139.427027 \nL 273.123243 142.365405 \nL 274.592432 143.834595 \nL 276.061622 145.303784 \nL 276.061622 148.242162 \nL 277.530811 149.711351 \nL 279 151.180541 \nL 280.469189 152.64973 \nL 281.938378 154.118919 \nL 281.938378 157.057297 \nL 283.407568 158.526486 \nL 284.876757 159.995676 \nL 284.876757 162.934054 \nL 286.345946 164.403243 \nL 287.815135 165.872432 \nL 287.815135 168.810811 \nL 289.284324 170.28 \nL 290.753514 171.749189 \nL 292.222703 173.218378 \nL 293.691892 174.687568 \nL 293.691892 177.625946 \nL 295.161081 179.095135 \nL 296.63027 180.564324 \nL 296.63027 183.502703 \nL 298.099459 184.971892 \nL 299.568649 186.441081 \nL 299.568649 189.379459 \nL 301.037838 190.848649 \nL 302.507027 192.317838 \nL 302.507027 195.256216 \nL 303.976216 196.725405 \nL 305.445405 198.194595 \nz\n\" style=\"fill:none;stroke:#ff0000;stroke-linejoin:miter;\"/>\n   </g>\n   <g id=\"text_1\">\n    <g id=\"patch_8\">\n     <path d=\"M 194.234595 198.565494 \nL 244.564751 198.565494 \nL 244.564751 179.999557 \nL 194.234595 179.999557 \nz\n\" style=\"fill:none;\"/>\n    </g>\n    <!-- triangle -->\n    <defs>\n     <path d=\"M 18.3125 70.21875 \nL 18.3125 54.6875 \nL 36.8125 54.6875 \nL 36.8125 47.703125 \nL 18.3125 47.703125 \nL 18.3125 18.015625 \nQ 18.3125 11.328125 20.140625 9.421875 \nQ 21.96875 7.515625 27.59375 7.515625 \nL 36.8125 7.515625 \nL 36.8125 0 \nL 27.59375 0 \nQ 17.1875 0 13.234375 3.875 \nQ 9.28125 7.765625 9.28125 18.015625 \nL 9.28125 47.703125 \nL 2.6875 47.703125 \nL 2.6875 54.6875 \nL 9.28125 54.6875 \nL 9.28125 70.21875 \nz\n\" id=\"DejaVuSans-116\"/>\n     <path d=\"M 41.109375 46.296875 \nQ 39.59375 47.171875 37.8125 47.578125 \nQ 36.03125 48 33.890625 48 \nQ 26.265625 48 22.1875 43.046875 \nQ 18.109375 38.09375 18.109375 28.8125 \nL 18.109375 0 \nL 9.078125 0 \nL 9.078125 54.6875 \nL 18.109375 54.6875 \nL 18.109375 46.1875 \nQ 20.953125 51.171875 25.484375 53.578125 \nQ 30.03125 56 36.53125 56 \nQ 37.453125 56 38.578125 55.875 \nQ 39.703125 55.765625 41.0625 55.515625 \nz\n\" id=\"DejaVuSans-114\"/>\n     <path d=\"M 9.421875 54.6875 \nL 18.40625 54.6875 \nL 18.40625 0 \nL 9.421875 0 \nz\nM 9.421875 75.984375 \nL 18.40625 75.984375 \nL 18.40625 64.59375 \nL 9.421875 64.59375 \nz\n\" id=\"DejaVuSans-105\"/>\n     <path d=\"M 34.28125 27.484375 \nQ 23.390625 27.484375 19.1875 25 \nQ 14.984375 22.515625 14.984375 16.5 \nQ 14.984375 11.71875 18.140625 8.90625 \nQ 21.296875 6.109375 26.703125 6.109375 \nQ 34.1875 6.109375 38.703125 11.40625 \nQ 43.21875 16.703125 43.21875 25.484375 \nL 43.21875 27.484375 \nz\nM 52.203125 31.203125 \nL 52.203125 0 \nL 43.21875 0 \nL 43.21875 8.296875 \nQ 40.140625 3.328125 35.546875 0.953125 \nQ 30.953125 -1.421875 24.3125 -1.421875 \nQ 15.921875 -1.421875 10.953125 3.296875 \nQ 6 8.015625 6 15.921875 \nQ 6 25.140625 12.171875 29.828125 \nQ 18.359375 34.515625 30.609375 34.515625 \nL 43.21875 34.515625 \nL 43.21875 35.40625 \nQ 43.21875 41.609375 39.140625 45 \nQ 35.0625 48.390625 27.6875 48.390625 \nQ 23 48.390625 18.546875 47.265625 \nQ 14.109375 46.140625 10.015625 43.890625 \nL 10.015625 52.203125 \nQ 14.9375 54.109375 19.578125 55.046875 \nQ 24.21875 56 28.609375 56 \nQ 40.484375 56 46.34375 49.84375 \nQ 52.203125 43.703125 52.203125 31.203125 \nz\n\" id=\"DejaVuSans-97\"/>\n     <path d=\"M 54.890625 33.015625 \nL 54.890625 0 \nL 45.90625 0 \nL 45.90625 32.71875 \nQ 45.90625 40.484375 42.875 44.328125 \nQ 39.84375 48.1875 33.796875 48.1875 \nQ 26.515625 48.1875 22.3125 43.546875 \nQ 18.109375 38.921875 18.109375 30.90625 \nL 18.109375 0 \nL 9.078125 0 \nL 9.078125 54.6875 \nL 18.109375 54.6875 \nL 18.109375 46.1875 \nQ 21.34375 51.125 25.703125 53.5625 \nQ 30.078125 56 35.796875 56 \nQ 45.21875 56 50.046875 50.171875 \nQ 54.890625 44.34375 54.890625 33.015625 \nz\n\" id=\"DejaVuSans-110\"/>\n     <path d=\"M 45.40625 27.984375 \nQ 45.40625 37.75 41.375 43.109375 \nQ 37.359375 48.484375 30.078125 48.484375 \nQ 22.859375 48.484375 18.828125 43.109375 \nQ 14.796875 37.75 14.796875 27.984375 \nQ 14.796875 18.265625 18.828125 12.890625 \nQ 22.859375 7.515625 30.078125 7.515625 \nQ 37.359375 7.515625 41.375 12.890625 \nQ 45.40625 18.265625 45.40625 27.984375 \nz\nM 54.390625 6.78125 \nQ 54.390625 -7.171875 48.1875 -13.984375 \nQ 42 -20.796875 29.203125 -20.796875 \nQ 24.46875 -20.796875 20.265625 -20.09375 \nQ 16.0625 -19.390625 12.109375 -17.921875 \nL 12.109375 -9.1875 \nQ 16.0625 -11.328125 19.921875 -12.34375 \nQ 23.78125 -13.375 27.78125 -13.375 \nQ 36.625 -13.375 41.015625 -8.765625 \nQ 45.40625 -4.15625 45.40625 5.171875 \nL 45.40625 9.625 \nQ 42.625 4.78125 38.28125 2.390625 \nQ 33.9375 0 27.875 0 \nQ 17.828125 0 11.671875 7.65625 \nQ 5.515625 15.328125 5.515625 27.984375 \nQ 5.515625 40.671875 11.671875 48.328125 \nQ 17.828125 56 27.875 56 \nQ 33.9375 56 38.28125 53.609375 \nQ 42.625 51.21875 45.40625 46.390625 \nL 45.40625 54.6875 \nL 54.390625 54.6875 \nz\n\" id=\"DejaVuSans-103\"/>\n     <path d=\"M 9.421875 75.984375 \nL 18.40625 75.984375 \nL 18.40625 0 \nL 9.421875 0 \nz\n\" id=\"DejaVuSans-108\"/>\n     <path d=\"M 56.203125 29.59375 \nL 56.203125 25.203125 \nL 14.890625 25.203125 \nQ 15.484375 15.921875 20.484375 11.0625 \nQ 25.484375 6.203125 34.421875 6.203125 \nQ 39.59375 6.203125 44.453125 7.46875 \nQ 49.3125 8.734375 54.109375 11.28125 \nL 54.109375 2.78125 \nQ 49.265625 0.734375 44.1875 -0.34375 \nQ 39.109375 -1.421875 33.890625 -1.421875 \nQ 20.796875 -1.421875 13.15625 6.1875 \nQ 5.515625 13.8125 5.515625 26.8125 \nQ 5.515625 40.234375 12.765625 48.109375 \nQ 20.015625 56 32.328125 56 \nQ 43.359375 56 49.78125 48.890625 \nQ 56.203125 41.796875 56.203125 29.59375 \nz\nM 47.21875 32.234375 \nQ 47.125 39.59375 43.09375 43.984375 \nQ 39.0625 48.390625 32.421875 48.390625 \nQ 24.90625 48.390625 20.390625 44.140625 \nQ 15.875 39.890625 15.1875 32.171875 \nz\n\" id=\"DejaVuSans-101\"/>\n    </defs>\n    <g style=\"fill:#ffffff;\" transform=\"translate(198.194595 192.317838)scale(0.11 -0.11)\">\n     <use xlink:href=\"#DejaVuSans-116\"/>\n     <use x=\"39.208984\" xlink:href=\"#DejaVuSans-114\"/>\n     <use x=\"80.322266\" xlink:href=\"#DejaVuSans-105\"/>\n     <use x=\"108.105469\" xlink:href=\"#DejaVuSans-97\"/>\n     <use x=\"169.384766\" xlink:href=\"#DejaVuSans-110\"/>\n     <use x=\"232.763672\" xlink:href=\"#DejaVuSans-103\"/>\n     <use x=\"296.240234\" xlink:href=\"#DejaVuSans-108\"/>\n     <use x=\"324.023438\" xlink:href=\"#DejaVuSans-101\"/>\n    </g>\n   </g>\n   <g id=\"text_2\">\n    <g id=\"patch_9\">\n     <path d=\"M 111.96 198.565494 \nL 149.131406 198.565494 \nL 149.131406 179.999557 \nL 111.96 179.999557 \nz\n\" style=\"fill:none;\"/>\n    </g>\n    <!-- circle -->\n    <defs>\n     <path d=\"M 48.78125 52.59375 \nL 48.78125 44.1875 \nQ 44.96875 46.296875 41.140625 47.34375 \nQ 37.3125 48.390625 33.40625 48.390625 \nQ 24.65625 48.390625 19.8125 42.84375 \nQ 14.984375 37.3125 14.984375 27.296875 \nQ 14.984375 17.28125 19.8125 11.734375 \nQ 24.65625 6.203125 33.40625 6.203125 \nQ 37.3125 6.203125 41.140625 7.25 \nQ 44.96875 8.296875 48.78125 10.40625 \nL 48.78125 2.09375 \nQ 45.015625 0.34375 40.984375 -0.53125 \nQ 36.96875 -1.421875 32.421875 -1.421875 \nQ 20.0625 -1.421875 12.78125 6.34375 \nQ 5.515625 14.109375 5.515625 27.296875 \nQ 5.515625 40.671875 12.859375 48.328125 \nQ 20.21875 56 33.015625 56 \nQ 37.15625 56 41.109375 55.140625 \nQ 45.0625 54.296875 48.78125 52.59375 \nz\n\" id=\"DejaVuSans-99\"/>\n    </defs>\n    <g style=\"fill:#ffffff;\" transform=\"translate(115.92 192.317838)scale(0.11 -0.11)\">\n     <use xlink:href=\"#DejaVuSans-99\"/>\n     <use x=\"54.980469\" xlink:href=\"#DejaVuSans-105\"/>\n     <use x=\"82.763672\" xlink:href=\"#DejaVuSans-114\"/>\n     <use x=\"121.626953\" xlink:href=\"#DejaVuSans-99\"/>\n     <use x=\"176.607422\" xlink:href=\"#DejaVuSans-108\"/>\n     <use x=\"204.390625\" xlink:href=\"#DejaVuSans-101\"/>\n    </g>\n   </g>\n   <g id=\"text_3\">\n    <g id=\"patch_10\">\n     <path d=\"M 132.528649 81.030359 \nL 182.858805 81.030359 \nL 182.858805 62.464421 \nL 132.528649 62.464421 \nz\n\" style=\"fill:none;\"/>\n    </g>\n    <!-- triangle -->\n    <g style=\"fill:#ffffff;\" transform=\"translate(136.488649 74.782703)scale(0.11 -0.11)\">\n     <use xlink:href=\"#DejaVuSans-116\"/>\n     <use x=\"39.208984\" xlink:href=\"#DejaVuSans-114\"/>\n     <use x=\"80.322266\" xlink:href=\"#DejaVuSans-105\"/>\n     <use x=\"108.105469\" xlink:href=\"#DejaVuSans-97\"/>\n     <use x=\"169.384766\" xlink:href=\"#DejaVuSans-110\"/>\n     <use x=\"232.763672\" xlink:href=\"#DejaVuSans-103\"/>\n     <use x=\"296.240234\" xlink:href=\"#DejaVuSans-108\"/>\n     <use x=\"324.023438\" xlink:href=\"#DejaVuSans-101\"/>\n    </g>\n   </g>\n  </g>\n </g>\n <defs>\n  <clipPath id=\"p9b199d53c0\">\n   <rect height=\"434.88\" width=\"434.88\" x=\"7.2\" y=\"7.2\"/>\n  </clipPath>\n </defs>\n</svg>\n",
      "image/png": "[encoded data removed]"
     },
     "metadata": {
      "needs_background": "light"
     }
    }
   ],
   "source": [
    "# Test on a random image\n",
    "image_id = random.choice(dataset_val.image_ids)\n",
    "original_image, image_meta, gt_class_id, gt_bbox, gt_mask =\\\n",
    "    modellib.load_image_gt(dataset_val, inference_config, \n",
    "                           image_id, use_mini_mask=False)\n",
    "\n",
    "log(\"original_image\", original_image)\n",
    "log(\"image_meta\", image_meta)\n",
    "log(\"gt_class_id\", gt_class_id)\n",
    "log(\"gt_bbox\", gt_bbox)\n",
    "log(\"gt_mask\", gt_mask)\n",
    "\n",
    "visualize.display_instances(original_image, gt_bbox, gt_mask, gt_class_id, \n",
    "                            dataset_train.class_names, figsize=(8, 8))"
   ]
  },
  {
   "cell_type": "code",
   "execution_count": 13,
   "metadata": {},
   "outputs": [
    {
     "name": "stdout",
     "output_type": "stream",
     "text": [
      "Processing 1 images\n",
      "image                    shape: (128, 128, 3)         min:  108.00000  max:  236.00000\n",
      "molded_images            shape: (1, 128, 128, 3)      min:  -15.70000  max:  132.10000\n",
      "image_metas              shape: (1, 12)               min:    0.00000  max:  128.00000\n"
     ]
    },
    {
     "data": {
      "image/png": "[encoded data removed]",
      "text/plain": [
       "<matplotlib.figure.Figure at 0x7ff36b5de080>"
      ]
     },
     "metadata": {},
     "output_type": "display_data"
    }
   ],
   "source": [
    "results = model.detect([original_image], verbose=1)\n",
    "\n",
    "r = results[0]\n",
    "visualize.display_instances(original_image, r['rois'], r['masks'], r['class_ids'], \n",
    "                            dataset_val.class_names, r['scores'], ax=get_ax())"
   ]
  },
  {
   "cell_type": "markdown",
   "metadata": {},
   "source": [
    "## Evaluation"
   ]
  },
  {
   "cell_type": "code",
   "execution_count": 14,
   "metadata": {},
   "outputs": [
    {
     "name": "stdout",
     "output_type": "stream",
     "text": [
      "mAP:  0.95\n"
     ]
    }
   ],
   "source": [
    "# Compute VOC-Style mAP @ IoU=0.5\n",
    "# Running on 10 images. Increase for better accuracy.\n",
    "image_ids = np.random.choice(dataset_val.image_ids, 10)\n",
    "APs = []\n",
    "for image_id in image_ids:\n",
    "    # Load image and ground truth data\n",
    "    image, image_meta, gt_class_id, gt_bbox, gt_mask =\\\n",
    "        modellib.load_image_gt(dataset_val, inference_config,\n",
    "                               image_id, use_mini_mask=False)\n",
    "    molded_images = np.expand_dims(modellib.mold_image(image, inference_config), 0)\n",
    "    # Run object detection\n",
    "    results = model.detect([image], verbose=0)\n",
    "    r = results[0]\n",
    "    # Compute AP\n",
    "    AP, precisions, recalls, overlaps =\\\n",
    "        utils.compute_ap(gt_bbox, gt_class_id, gt_mask,\n",
    "                         r[\"rois\"], r[\"class_ids\"], r[\"scores\"], r['masks'])\n",
    "    APs.append(AP)\n",
    "    \n",
    "print(\"mAP: \", np.mean(APs))"
   ]
  },
  {
   "cell_type": "code",
   "execution_count": null,
   "metadata": {
    "collapsed": true
   },
   "outputs": [],
   "source": []
  }
 ],
 "metadata": {
  "kernelspec": {
   "name": "python3",
   "display_name": "Python 3.6.13 64-bit ('maskrcnn': conda)",
   "metadata": {
    "interpreter": {
     "hash": "2d131c26b7c6d9e0aa34fede730f864083a2f7a4c5e3ea701c0dda62e34b417e"
    }
   }
  },
  "language_info": {
   "codemirror_mode": {
    "name": "ipython",
    "version": 3
   },
   "file_extension": ".py",
   "mimetype": "text/x-python",
   "name": "python",
   "nbconvert_exporter": "python",
   "pygments_lexer": "ipython3",
   "version": "3.6.13-final"
  }
 },
 "nbformat": 4,
 "nbformat_minor": 2
}